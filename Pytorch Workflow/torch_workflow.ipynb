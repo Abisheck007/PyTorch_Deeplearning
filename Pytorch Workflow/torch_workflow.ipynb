{
 "cells": [
  {
   "cell_type": "markdown",
   "metadata": {},
   "source": [
    "Here we see the workflow of the pytorch bu getting the data ready,built a model,fit the model to data,,make predictions and evaluate the model,saving and loading the model,putting it all together"
   ]
  },
  {
   "cell_type": "code",
   "execution_count": 3,
   "metadata": {},
   "outputs": [],
   "source": [
    "import torch\n",
    "from torch import nn #nn contains all building blocks for neural networks\n",
    "import matplotlib.pyplot as plt"
   ]
  },
  {
   "cell_type": "code",
   "execution_count": 8,
   "metadata": {},
   "outputs": [
    {
     "data": {
      "text/plain": [
       "(50, 50)"
      ]
     },
     "execution_count": 8,
     "metadata": {},
     "output_type": "execute_result"
    }
   ],
   "source": [
    "#data loading\n",
    "weight = 0.7\n",
    "bias = 0.3\n",
    "\n",
    "#create\n",
    "start = 0\n",
    "end = 1\n",
    "step = 0.02\n",
    "X = torch.arange(start, end, step).unsqueeze(dim=1) \n",
    "y= weight*X+bias\n",
    "len(X), len(y)"
   ]
  },
  {
   "cell_type": "code",
   "execution_count": 10,
   "metadata": {},
   "outputs": [
    {
     "data": {
      "text/plain": [
       "(40, 40, 10, 10)"
      ]
     },
     "execution_count": 10,
     "metadata": {},
     "output_type": "execute_result"
    }
   ],
   "source": [
    "#now we need to split the data into training and testing sets which we take 80% for training and 20% for testing\n",
    "train_split = int(0.8*len(X))\n",
    "X_train,y_train = X[:train_split],y[:train_split]\n",
    "xtest,ytest =  X[train_split:],y[train_split:]\n",
    "len(X_train), len(y_train), len(xtest), len(ytest)"
   ]
  },
  {
   "cell_type": "code",
   "execution_count": 28,
   "metadata": {},
   "outputs": [
    {
     "data": {
      "image/png": "[encoded data removed]",
      "text/plain": [
       "<Figure size 640x480 with 1 Axes>"
      ]
     },
     "metadata": {},
     "output_type": "display_data"
    }
   ],
   "source": [
    "def plt_predictions(train_data = X_train,\n",
    "                    train_labels = y_train,\n",
    "                    test_data = xtest,\n",
    "                    test_labels = ytest,\n",
    "                    predictions = None):\n",
    "    \n",
    "    plt.scatter(train_data, train_labels, color=\"blue\", label=\"Training data\", s=5)\n",
    "    plt.scatter(test_data, test_labels, color=\"red\", label=\"Testing data\", s=5)\n",
    "    if predictions is not None:\n",
    "        plt.scatter(test_data, predictions, color=\"green\", label=\"Predictions\", s=5)\n",
    "\n",
    "plt_predictions()\n"
   ]
  },
  {
   "cell_type": "code",
   "execution_count": null,
   "metadata": {},
   "outputs": [],
   "source": [
    "#our first pytorch model\n",
    "#linear regression model\n",
    "class LinearRegressionModel(nn.Module):\n",
    "    def __init__(self):\n",
    "        super().__init__() \n",
    "        self.weight = nn.Parameter(torch.randn(1,requires_grad=True,dtype=torch.float  )) #weights are trainable parameters\n",
    "        self.bias = nn.Parameter(torch.randn(1,requires_grad=True,dtype=torch.float))\n",
    "        \n",
    "        #forward method\n",
    "    def forward(self, X: torch.Tensor) -> torch.Tensor:\n",
    "        return self.weight * X + self.bias \n",
    "#here what our model does it it starts with random values and look at training data and adjust the random values to better present the ideal values\n",
    "\n",
    "#for this we use 2 main algirithms 1. gradient descent 2. backpropagation we dont need to create this torch will do this for us!\n",
    "  "
   ]
  },
  {
   "cell_type": "code",
   "execution_count": 125,
   "metadata": {},
   "outputs": [
    {
     "name": "stdout",
     "output_type": "stream",
     "text": [
      "LinearRegressionModel()\n",
      "<bound method Module.parameters of LinearRegressionModel()>\n",
      "[Parameter containing:\n",
      "tensor([0.3367], requires_grad=True), Parameter containing:\n",
      "tensor([0.1288], requires_grad=True)]\n"
     ]
    }
   ],
   "source": [
    "#checking the contents of our model\n",
    "#create a seed\n",
    "torch.manual_seed(42)\n",
    "#create an instance of the model\n",
    "model_0 =LinearRegressionModel()\n",
    "print(model_0)\n",
    "print(model_0.parameters)\n",
    "print(list(model_0.parameters()))\n",
    "#now u may have a doubt that we are passing random value at the model creation time then how can weget the same output every time we run the code because we are using the seed concept here"
   ]
  },
  {
   "cell_type": "code",
   "execution_count": 56,
   "metadata": {},
   "outputs": [
    {
     "data": {
      "text/plain": [
       "tensor([0.9346])"
      ]
     },
     "execution_count": 56,
     "metadata": {},
     "output_type": "execute_result"
    }
   ],
   "source": [
    "#le me give u a another ex:\n",
    "torch.rand(1)#here each time the value will change discretely"
   ]
  },
  {
   "cell_type": "code",
   "execution_count": 74,
   "metadata": {},
   "outputs": [
    {
     "data": {
      "text/plain": [
       "tensor([0.8823])"
      ]
     },
     "execution_count": 74,
     "metadata": {},
     "output_type": "execute_result"
    }
   ],
   "source": [
    "from torch import manual_seed as ms\n",
    "ms(42)\n",
    "torch.rand(1)#now it will give the same value every time we run the code"
   ]
  },
  {
   "cell_type": "code",
   "execution_count": 121,
   "metadata": {},
   "outputs": [
    {
     "data": {
      "text/plain": [
       "OrderedDict([('weight', tensor([0.3406])), ('bias', tensor([0.1388]))])"
      ]
     },
     "execution_count": 121,
     "metadata": {},
     "output_type": "execute_result"
    }
   ],
   "source": [
    "#to list named parameters\n",
    "model_0.state_dict()#we need to get the weight tensor and bias tensor near to our original values which is 0.7 and 0.3"
   ]
  },
  {
   "cell_type": "code",
   "execution_count": 110,
   "metadata": {},
   "outputs": [
    {
     "name": "stdout",
     "output_type": "stream",
     "text": [
      "tensor([[0.3982],\n",
      "        [0.4049],\n",
      "        [0.4116],\n",
      "        [0.4184],\n",
      "        [0.4251],\n",
      "        [0.4318],\n",
      "        [0.4386],\n",
      "        [0.4453],\n",
      "        [0.4520],\n",
      "        [0.4588]])\n"
     ]
    }
   ],
   "source": [
    "#lets make prediction using torch.inference_mode()\n",
    "\n",
    "with torch.inference_mode():#context manager to turn off gradient tracking\n",
    "    y_preds = model_0(xtest)\n",
    "\n",
    "print(y_preds)\n"
   ]
  },
  {
   "cell_type": "code",
   "execution_count": 111,
   "metadata": {},
   "outputs": [
    {
     "data": {
      "text/plain": [
       "tensor([[0.8600],\n",
       "        [0.8740],\n",
       "        [0.8880],\n",
       "        [0.9020],\n",
       "        [0.9160],\n",
       "        [0.9300],\n",
       "        [0.9440],\n",
       "        [0.9580],\n",
       "        [0.9720],\n",
       "        [0.9860]])"
      ]
     },
     "execution_count": 111,
     "metadata": {},
     "output_type": "execute_result"
    }
   ],
   "source": [
    "ytest"
   ]
  },
  {
   "cell_type": "code",
   "execution_count": 112,
   "metadata": {},
   "outputs": [
    {
     "data": {
      "image/png": "[encoded data removed]",
      "text/plain": [
       "<Figure size 640x480 with 1 Axes>"
      ]
     },
     "metadata": {},
     "output_type": "display_data"
    }
   ],
   "source": [
    "plt_predictions(predictions=y_preds)"
   ]
  },
  {
   "cell_type": "markdown",
   "metadata": {},
   "source": [
    "Loss function - which is used to measure the difference between the model predicted op and the original op'--"
   ]
  },
  {
   "cell_type": "code",
   "execution_count": 142,
   "metadata": {},
   "outputs": [],
   "source": [
    "#set up a loss function\n",
    "loss_fn = nn.L1Loss()\n",
    "#setup a optimizer\n",
    "optimizer = torch.optim.SGD(params=model_0.parameters(),lr=0.01) #stochastic gradient descent and lr is learning rate."
   ]
  },
  {
   "cell_type": "code",
   "execution_count": 203,
   "metadata": {},
   "outputs": [
    {
     "name": "stdout",
     "output_type": "stream",
     "text": [
      "loss:0.008932482451200485\n",
      "epoch:0 | test loss:0.0050 | train loss:0.0089\n",
      "loss:0.0025885067880153656\n",
      "loss:0.008932482451200485\n",
      "loss:0.0025885067880153656\n",
      "loss:0.008932482451200485\n",
      "loss:0.0025885067880153656\n",
      "loss:0.008932482451200485\n",
      "loss:0.0025885067880153656\n",
      "loss:0.008932482451200485\n",
      "loss:0.0025885067880153656\n",
      "loss:0.008932482451200485\n",
      "epoch:10 | test loss:0.0050 | train loss:0.0089\n",
      "loss:0.0025885067880153656\n",
      "loss:0.008932482451200485\n",
      "loss:0.0025885067880153656\n",
      "loss:0.008932482451200485\n",
      "loss:0.0025885067880153656\n",
      "loss:0.008932482451200485\n",
      "loss:0.0025885067880153656\n",
      "loss:0.008932482451200485\n",
      "loss:0.0025885067880153656\n",
      "loss:0.008932482451200485\n",
      "epoch:20 | test loss:0.0050 | train loss:0.0089\n",
      "loss:0.0025885067880153656\n",
      "loss:0.008932482451200485\n",
      "loss:0.0025885067880153656\n",
      "loss:0.008932482451200485\n",
      "loss:0.0025885067880153656\n",
      "loss:0.008932482451200485\n",
      "loss:0.0025885067880153656\n",
      "loss:0.008932482451200485\n",
      "loss:0.0025885067880153656\n",
      "loss:0.008932482451200485\n",
      "epoch:30 | test loss:0.0050 | train loss:0.0089\n",
      "loss:0.0025885067880153656\n",
      "loss:0.008932482451200485\n",
      "loss:0.0025885067880153656\n",
      "loss:0.008932482451200485\n",
      "loss:0.0025885067880153656\n",
      "loss:0.008932482451200485\n",
      "loss:0.0025885067880153656\n",
      "loss:0.008932482451200485\n",
      "loss:0.0025885067880153656\n",
      "loss:0.008932482451200485\n",
      "epoch:40 | test loss:0.0050 | train loss:0.0089\n",
      "loss:0.0025885067880153656\n",
      "loss:0.008932482451200485\n",
      "loss:0.0025885067880153656\n",
      "loss:0.008932482451200485\n",
      "loss:0.0025885067880153656\n",
      "loss:0.008932482451200485\n",
      "loss:0.0025885067880153656\n",
      "loss:0.008932482451200485\n",
      "loss:0.0025885067880153656\n",
      "loss:0.008932482451200485\n",
      "epoch:50 | test loss:0.0050 | train loss:0.0089\n",
      "loss:0.0025885067880153656\n",
      "loss:0.008932482451200485\n",
      "loss:0.0025885067880153656\n",
      "loss:0.008932482451200485\n",
      "loss:0.0025885067880153656\n",
      "loss:0.008932482451200485\n",
      "loss:0.0025885067880153656\n",
      "loss:0.008932482451200485\n",
      "loss:0.0025885067880153656\n",
      "loss:0.008932482451200485\n",
      "epoch:60 | test loss:0.0050 | train loss:0.0089\n",
      "loss:0.0025885067880153656\n",
      "loss:0.008932482451200485\n",
      "loss:0.0025885067880153656\n",
      "loss:0.008932482451200485\n",
      "loss:0.0025885067880153656\n",
      "loss:0.008932482451200485\n",
      "loss:0.0025885067880153656\n",
      "loss:0.008932482451200485\n",
      "loss:0.0025885067880153656\n",
      "loss:0.008932482451200485\n",
      "epoch:70 | test loss:0.0050 | train loss:0.0089\n",
      "loss:0.0025885067880153656\n",
      "loss:0.008932482451200485\n",
      "loss:0.0025885067880153656\n",
      "loss:0.008932482451200485\n",
      "loss:0.0025885067880153656\n",
      "loss:0.008932482451200485\n",
      "loss:0.0025885067880153656\n",
      "loss:0.008932482451200485\n",
      "loss:0.0025885067880153656\n",
      "loss:0.008932482451200485\n",
      "epoch:80 | test loss:0.0050 | train loss:0.0089\n",
      "loss:0.0025885067880153656\n",
      "loss:0.008932482451200485\n",
      "loss:0.0025885067880153656\n",
      "loss:0.008932482451200485\n",
      "loss:0.0025885067880153656\n",
      "loss:0.008932482451200485\n",
      "loss:0.0025885067880153656\n",
      "loss:0.008932482451200485\n",
      "loss:0.0025885067880153656\n",
      "loss:0.008932482451200485\n",
      "epoch:90 | test loss:0.0050 | train loss:0.0089\n",
      "loss:0.0025885067880153656\n",
      "loss:0.008932482451200485\n",
      "loss:0.0025885067880153656\n",
      "loss:0.008932482451200485\n",
      "loss:0.0025885067880153656\n",
      "loss:0.008932482451200485\n",
      "loss:0.0025885067880153656\n",
      "loss:0.008932482451200485\n",
      "loss:0.0025885067880153656\n"
     ]
    }
   ],
   "source": [
    "#now u see the prediction is so poor so we need to train the model\n",
    "#training loop\n",
    "epochs = 100\n",
    "\n",
    "epoch_count = []\n",
    "trainloss_values=[]\n",
    "test_loss_values = []\n",
    "\n",
    "for epoch in range(epochs):\n",
    "    model_0.train()\n",
    "    \n",
    "    # forward pass\n",
    "    y_pred = model_0(X_train)\n",
    "    \n",
    "    # calculate the loss\n",
    "    loss = loss_fn(y_pred, y_train)\n",
    "    print(f\"loss:{loss}\")\n",
    "    # zero grad\n",
    "    optimizer.zero_grad()\n",
    "    \n",
    "    # backprop\n",
    "    loss.backward()\n",
    "    \n",
    "    # step\n",
    "    optimizer.step()\n",
    "\n",
    "    # evaluation inside the loop\n",
    "    model_0.eval()\n",
    "    with torch.inference_mode():\n",
    "        test_preds = model_0(xtest)\n",
    "        test_loss = loss_fn(test_preds, ytest)\n",
    "\n",
    "        if epoch % 10 == 0:\n",
    "            epoch_count.append(epoch)\n",
    "            trainloss_values.append(loss.item())\n",
    "            test_loss_values.append(test_loss.item())\n",
    "            print(f\"epoch:{epoch} | test loss:{test_loss.item():.4f} | train loss:{loss.item():.4f}\")\n",
    "\n",
    "    \n"
   ]
  },
  {
   "cell_type": "code",
   "execution_count": null,
   "metadata": {},
   "outputs": [],
   "source": [
    "import numpy as np"
   ]
  },
  {
   "cell_type": "code",
   "execution_count": 204,
   "metadata": {},
   "outputs": [
    {
     "data": {
      "image/png": "[encoded data removed]",
      "text/plain": [
       "<Figure size 640x480 with 1 Axes>"
      ]
     },
     "metadata": {},
     "output_type": "display_data"
    }
   ],
   "source": [
    "import numpy as np\n",
    "import matplotlib.pyplot as plt\n",
    "\n",
    "plt.plot(epoch_count, trainloss_values, label=\"Train Loss\")\n",
    "plt.plot(epoch_count, test_loss_values, label=\"Test Loss\")\n",
    "plt.title(\"Training and Test Loss Curve\")\n",
    "plt.xlabel(\"Epochs\")\n",
    "plt.ylabel(\"Loss\")\n",
    "plt.legend()\n",
    "plt.show()\n"
   ]
  },
  {
   "cell_type": "code",
   "execution_count": 193,
   "metadata": {},
   "outputs": [
    {
     "data": {
      "text/plain": [
       "OrderedDict([('weight', tensor([0.6990])), ('bias', tensor([0.3093]))])"
      ]
     },
     "execution_count": 193,
     "metadata": {},
     "output_type": "execute_result"
    }
   ],
   "source": [
    "model_0.state_dict()"
   ]
  },
  {
   "cell_type": "code",
   "execution_count": 171,
   "metadata": {},
   "outputs": [
    {
     "name": "stdout",
     "output_type": "stream",
     "text": [
      "Before training: OrderedDict({'weight': tensor([0.6951]), 'bias': tensor([0.2993])})\n",
      "After training: OrderedDict({'weight': tensor([0.6990]), 'bias': tensor([0.3093])})\n"
     ]
    }
   ],
   "source": [
    "#run training loop epoch by epoch and see what happens\n",
    "print(\"Before training:\", model_0.state_dict())\n",
    "# training block\n",
    "model_0.train()\n",
    "y_pred = model_0(X_train)\n",
    "loss = loss_fn(y_pred, y_train)\n",
    "optimizer.zero_grad()\n",
    "loss.backward()\n",
    "optimizer.step()\n",
    "\n",
    "print(\"After training:\", model_0.state_dict())\n"
   ]
  },
  {
   "cell_type": "code",
   "execution_count": 172,
   "metadata": {},
   "outputs": [
    {
     "data": {
      "image/png": "[encoded data removed]",
      "text/plain": [
       "<Figure size 640x480 with 1 Axes>"
      ]
     },
     "metadata": {},
     "output_type": "display_data"
    }
   ],
   "source": [
    "plt_predictions(predictions=y_preds) #old predictions"
   ]
  },
  {
   "cell_type": "code",
   "execution_count": 173,
   "metadata": {},
   "outputs": [],
   "source": [
    "with torch.inference_mode():#context manager to turn off gradient tracking\n",
    "    new_preds = model_0(xtest)"
   ]
  },
  {
   "cell_type": "code",
   "execution_count": 175,
   "metadata": {},
   "outputs": [
    {
     "data": {
      "image/png": "[encoded data removed]",
      "text/plain": [
       "<Figure size 640x480 with 1 Axes>"
      ]
     },
     "metadata": {},
     "output_type": "display_data"
    }
   ],
   "source": [
    "plt_predictions(predictions=new_preds) #old predictions"
   ]
  },
  {
   "cell_type": "markdown",
   "metadata": {},
   "source": [
    "#saving a model in pytorch\n",
    "#there are 3 main methods which is used to save and load the models in pytorch\n",
    "torch.save(),torch.load(),torch.nn.Module.load_state_dict()\n"
   ]
  },
  {
   "cell_type": "code",
   "execution_count": 207,
   "metadata": {},
   "outputs": [],
   "source": [
    "from pathlib import Path\n",
    "#1.create model directory\n",
    "model_path = Path(\"models\")\n",
    "model_path.mkdir(parents=True, exist_ok=True) #create the directory if it doesn't exist\n",
    "#2.create model save path\n",
    "model_name = \"linear_regression_model.pth\"\n",
    "model_save_path = model_path / model_name\n",
    "\n",
    "#3.save the model state dict\n",
    "torch.save(obj=model_0.state_dict(), f=model_save_path)"
   ]
  },
  {
   "cell_type": "code",
   "execution_count": 208,
   "metadata": {},
   "outputs": [
    {
     "data": {
      "text/plain": [
       "<All keys matched successfully>"
      ]
     },
     "execution_count": 208,
     "metadata": {},
     "output_type": "execute_result"
    }
   ],
   "source": [
    "#to load the saved state_dict we have to instantiate a new instance of our model class\n",
    "\n",
    "load_model = LinearRegressionModel()\n",
    "#load saved state_dict\n",
    "\n",
    "load_model.load_state_dict(torch.load(f=model_save_path))"
   ]
  },
  {
   "cell_type": "code",
   "execution_count": 210,
   "metadata": {},
   "outputs": [
    {
     "name": "stdout",
     "output_type": "stream",
     "text": [
      "OrderedDict({'weight': tensor([0.6990]), 'bias': tensor([0.3093])})\n",
      "OrderedDict({'weight': tensor([0.6990]), 'bias': tensor([0.3093])})\n"
     ]
    }
   ],
   "source": [
    "print(model_0.state_dict())\n",
    "print(load_model.state_dict())"
   ]
  }
 ],
 "metadata": {
  "kernelspec": {
   "display_name": "Python 3",
   "language": "python",
   "name": "python3"
  },
  "language_info": {
   "codemirror_mode": {
    "name": "ipython",
    "version": 3
   },
   "file_extension": ".py",
   "mimetype": "text/x-python",
   "name": "python",
   "nbconvert_exporter": "python",
   "pygments_lexer": "ipython3",
   "version": "3.13.5"
  }
 },
 "nbformat": 4,
 "nbformat_minor": 2
}
