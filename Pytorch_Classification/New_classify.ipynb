{
 "cells": [
  {
   "cell_type": "markdown",
   "metadata": {},
   "source": [
    "#####improving our model\n",
    "#1.add more layers 2.change activation function 3. change optimizer 4. change learning rate  \n",
    "#may we can add more hidden units\n"
   ]
  },
  {
   "cell_type": "code",
   "execution_count": 2,
   "metadata": {},
   "outputs": [
    {
     "data": {
      "text/plain": [
       "(1000, 1000)"
      ]
     },
     "execution_count": 2,
     "metadata": {},
     "output_type": "execute_result"
    }
   ],
   "source": [
    "from sklearn.datasets import make_circles\n",
    "samples = 1000\n",
    "x,y = make_circles(n_samples=samples, noise=0.03, random_state=42)#features and labels\n",
    "len(x), len(y)"
   ]
  },
  {
   "cell_type": "code",
   "execution_count": 3,
   "metadata": {},
   "outputs": [
    {
     "data": {
      "text/html": [
       "<div>\n",
       "<style scoped>\n",
       "    .dataframe tbody tr th:only-of-type {\n",
       "        vertical-align: middle;\n",
       "    }\n",
       "\n",
       "    .dataframe tbody tr th {\n",
       "        vertical-align: top;\n",
       "    }\n",
       "\n",
       "    .dataframe thead th {\n",
       "        text-align: right;\n",
       "    }\n",
       "</style>\n",
       "<table border=\"1\" class=\"dataframe\">\n",
       "  <thead>\n",
       "    <tr style=\"text-align: right;\">\n",
       "      <th></th>\n",
       "      <th>x1</th>\n",
       "      <th>x2</th>\n",
       "      <th>label</th>\n",
       "    </tr>\n",
       "  </thead>\n",
       "  <tbody>\n",
       "    <tr>\n",
       "      <th>0</th>\n",
       "      <td>0.754246</td>\n",
       "      <td>0.231481</td>\n",
       "      <td>1</td>\n",
       "    </tr>\n",
       "    <tr>\n",
       "      <th>1</th>\n",
       "      <td>-0.756159</td>\n",
       "      <td>0.153259</td>\n",
       "      <td>1</td>\n",
       "    </tr>\n",
       "    <tr>\n",
       "      <th>2</th>\n",
       "      <td>-0.815392</td>\n",
       "      <td>0.173282</td>\n",
       "      <td>1</td>\n",
       "    </tr>\n",
       "    <tr>\n",
       "      <th>3</th>\n",
       "      <td>-0.393731</td>\n",
       "      <td>0.692883</td>\n",
       "      <td>1</td>\n",
       "    </tr>\n",
       "    <tr>\n",
       "      <th>4</th>\n",
       "      <td>0.442208</td>\n",
       "      <td>-0.896723</td>\n",
       "      <td>0</td>\n",
       "    </tr>\n",
       "    <tr>\n",
       "      <th>...</th>\n",
       "      <td>...</td>\n",
       "      <td>...</td>\n",
       "      <td>...</td>\n",
       "    </tr>\n",
       "    <tr>\n",
       "      <th>995</th>\n",
       "      <td>0.244054</td>\n",
       "      <td>0.944125</td>\n",
       "      <td>0</td>\n",
       "    </tr>\n",
       "    <tr>\n",
       "      <th>996</th>\n",
       "      <td>-0.978655</td>\n",
       "      <td>-0.272373</td>\n",
       "      <td>0</td>\n",
       "    </tr>\n",
       "    <tr>\n",
       "      <th>997</th>\n",
       "      <td>-0.136900</td>\n",
       "      <td>-0.810012</td>\n",
       "      <td>1</td>\n",
       "    </tr>\n",
       "    <tr>\n",
       "      <th>998</th>\n",
       "      <td>0.670362</td>\n",
       "      <td>-0.767502</td>\n",
       "      <td>0</td>\n",
       "    </tr>\n",
       "    <tr>\n",
       "      <th>999</th>\n",
       "      <td>0.281057</td>\n",
       "      <td>0.963824</td>\n",
       "      <td>0</td>\n",
       "    </tr>\n",
       "  </tbody>\n",
       "</table>\n",
       "<p>1000 rows × 3 columns</p>\n",
       "</div>"
      ],
      "text/plain": [
       "           x1        x2  label\n",
       "0    0.754246  0.231481      1\n",
       "1   -0.756159  0.153259      1\n",
       "2   -0.815392  0.173282      1\n",
       "3   -0.393731  0.692883      1\n",
       "4    0.442208 -0.896723      0\n",
       "..        ...       ...    ...\n",
       "995  0.244054  0.944125      0\n",
       "996 -0.978655 -0.272373      0\n",
       "997 -0.136900 -0.810012      1\n",
       "998  0.670362 -0.767502      0\n",
       "999  0.281057  0.963824      0\n",
       "\n",
       "[1000 rows x 3 columns]"
      ]
     },
     "execution_count": 3,
     "metadata": {},
     "output_type": "execute_result"
    }
   ],
   "source": [
    "import torch\n",
    "from torch import nn\n",
    "import pandas as pd\n",
    "import matplotlib.pyplot as plt\n",
    "df=pd.DataFrame({\"x1\":x[:,0], \"x2\":x[:,1], \"label\":y})\n",
    "df"
   ]
  },
  {
   "cell_type": "code",
   "execution_count": 4,
   "metadata": {},
   "outputs": [
    {
     "data": {
      "text/plain": [
       "(tensor([[ 0.7542,  0.2315],\n",
       "         [-0.7562,  0.1533],\n",
       "         [-0.8154,  0.1733],\n",
       "         ...,\n",
       "         [-0.1369, -0.8100],\n",
       "         [ 0.6704, -0.7675],\n",
       "         [ 0.2811,  0.9638]]),\n",
       " tensor([1., 1., 1., 1., 0., 1., 1., 1., 1., 0., 1., 0., 1., 1., 1., 1., 0., 1.,\n",
       "         1., 0., 1., 0., 0., 1., 0., 0., 0., 1., 1., 1., 0., 0., 1., 0., 0., 0.,\n",
       "         1., 1., 1., 0., 0., 0., 0., 1., 0., 0., 1., 1., 0., 1., 1., 1., 0., 1.,\n",
       "         0., 0., 1., 0., 0., 1., 0., 0., 1., 0., 1., 1., 1., 1., 0., 1., 0., 0.,\n",
       "         1., 1., 0., 0., 1., 0., 1., 0., 1., 0., 0., 0., 0., 1., 1., 1., 1., 0.,\n",
       "         0., 0., 1., 0., 1., 0., 1., 0., 0., 1., 1., 0., 1., 0., 1., 1., 1., 1.,\n",
       "         0., 1., 1., 1., 1., 1., 0., 0., 0., 1., 1., 0., 1., 0., 1., 0., 0., 1.,\n",
       "         1., 0., 1., 1., 1., 1., 0., 1., 1., 0., 0., 0., 0., 0., 0., 0., 1., 0.,\n",
       "         1., 1., 1., 0., 1., 0., 1., 0., 1., 0., 1., 0., 0., 1., 0., 1., 1., 1.,\n",
       "         1., 1., 1., 1., 0., 1., 0., 0., 0., 0., 0., 1., 0., 0., 0., 0., 1., 1.,\n",
       "         0., 1., 0., 1., 1., 0., 0., 0., 1., 1., 1., 1., 1., 0., 0., 0., 0., 0.,\n",
       "         1., 0., 0., 1., 1., 1., 1., 1., 0., 1., 0., 1., 0., 0., 1., 1., 1., 0.,\n",
       "         1., 0., 1., 1., 0., 1., 1., 0., 1., 0., 1., 0., 1., 1., 0., 1., 0., 1.,\n",
       "         0., 0., 0., 1., 0., 0., 0., 0., 1., 1., 0., 0., 0., 0., 0., 0., 0., 1.,\n",
       "         1., 1., 0., 0., 1., 1., 1., 0., 1., 0., 0., 0., 0., 1., 1., 0., 1., 0.,\n",
       "         0., 0., 1., 0., 1., 0., 0., 1., 0., 1., 1., 1., 0., 0., 0., 1., 0., 0.,\n",
       "         0., 1., 1., 1., 1., 0., 0., 0., 1., 0., 0., 0., 1., 0., 0., 0., 1., 1.,\n",
       "         0., 1., 1., 1., 1., 1., 1., 1., 0., 0., 0., 0., 1., 0., 0., 0., 0., 1.,\n",
       "         1., 1., 0., 0., 1., 0., 1., 0., 1., 1., 0., 0., 1., 1., 1., 1., 0., 0.,\n",
       "         0., 0., 0., 0., 1., 1., 0., 1., 0., 0., 1., 0., 0., 0., 0., 0., 0., 0.,\n",
       "         0., 1., 0., 0., 0., 0., 1., 0., 0., 1., 0., 1., 0., 0., 0., 1., 0., 0.,\n",
       "         1., 1., 0., 0., 1., 0., 0., 1., 1., 0., 1., 1., 0., 0., 1., 0., 1., 0.,\n",
       "         0., 0., 1., 1., 0., 0., 1., 1., 1., 1., 1., 0., 0., 1., 1., 1., 1., 0.,\n",
       "         1., 1., 1., 1., 1., 0., 0., 1., 0., 1., 0., 0., 0., 0., 1., 0., 0., 0.,\n",
       "         0., 0., 0., 0., 0., 0., 1., 1., 0., 1., 1., 1., 1., 1., 1., 0., 1., 1.,\n",
       "         1., 1., 0., 0., 0., 1., 1., 1., 0., 0., 0., 0., 1., 1., 0., 0., 0., 0.,\n",
       "         1., 0., 0., 0., 1., 0., 0., 1., 1., 1., 1., 1., 1., 0., 0., 0., 1., 0.,\n",
       "         0., 0., 0., 0., 1., 1., 1., 0., 0., 0., 0., 0., 1., 1., 1., 0., 0., 1.,\n",
       "         1., 1., 1., 0., 1., 1., 0., 1., 0., 0., 0., 1., 0., 0., 1., 0., 0., 1.,\n",
       "         1., 0., 0., 1., 1., 0., 1., 0., 1., 0., 1., 0., 1., 0., 0., 0., 1., 0.,\n",
       "         0., 0., 0., 0., 0., 1., 1., 1., 1., 0., 0., 0., 1., 0., 1., 1., 0., 0.,\n",
       "         0., 0., 0., 1., 1., 1., 0., 0., 1., 0., 0., 1., 0., 0., 1., 0., 0., 1.,\n",
       "         0., 0., 0., 1., 0., 0., 1., 1., 1., 0., 1., 1., 0., 0., 0., 1., 1., 1.,\n",
       "         1., 0., 0., 1., 1., 1., 0., 0., 0., 0., 1., 1., 0., 0., 1., 1., 0., 0.,\n",
       "         1., 1., 1., 1., 1., 1., 1., 0., 1., 0., 1., 0., 0., 1., 0., 1., 1., 1.,\n",
       "         1., 0., 0., 1., 1., 0., 0., 1., 0., 1., 0., 0., 0., 1., 0., 0., 1., 1.,\n",
       "         1., 1., 0., 1., 1., 1., 1., 1., 1., 1., 0., 1., 0., 1., 1., 1., 0., 0.,\n",
       "         1., 0., 0., 0., 1., 1., 1., 1., 0., 0., 0., 0., 1., 0., 1., 1., 1., 0.,\n",
       "         1., 0., 0., 1., 0., 0., 1., 1., 1., 1., 1., 0., 1., 0., 0., 0., 1., 1.,\n",
       "         1., 1., 1., 0., 0., 0., 1., 1., 1., 1., 0., 0., 0., 0., 0., 1., 1., 0.,\n",
       "         1., 0., 1., 0., 0., 0., 0., 0., 0., 0., 0., 0., 1., 1., 1., 1., 1., 0.,\n",
       "         1., 0., 1., 1., 1., 1., 0., 1., 1., 1., 1., 1., 1., 1., 1., 0., 1., 1.,\n",
       "         0., 1., 0., 0., 0., 1., 0., 1., 1., 1., 0., 1., 1., 0., 1., 1., 0., 1.,\n",
       "         0., 1., 1., 0., 0., 1., 1., 1., 0., 0., 0., 0., 1., 1., 0., 0., 1., 1.,\n",
       "         1., 1., 1., 1., 1., 1., 1., 1., 1., 1., 1., 1., 0., 0., 1., 0., 1., 0.,\n",
       "         1., 0., 1., 1., 1., 1., 1., 1., 0., 1., 0., 1., 1., 1., 0., 1., 1., 0.,\n",
       "         0., 1., 0., 1., 1., 0., 0., 1., 1., 1., 1., 1., 1., 1., 1., 0., 1., 1.,\n",
       "         1., 0., 1., 0., 0., 1., 1., 0., 0., 0., 1., 0., 0., 1., 0., 0., 0., 1.,\n",
       "         0., 1., 0., 0., 0., 0., 1., 0., 1., 1., 1., 1., 0., 1., 0., 0., 0., 0.,\n",
       "         0., 0., 1., 0., 1., 0., 1., 0., 1., 1., 1., 0., 1., 0., 1., 0., 0., 1.,\n",
       "         1., 1., 0., 0., 0., 1., 1., 0., 1., 0., 1., 1., 0., 1., 0., 0., 1., 1.,\n",
       "         1., 0., 0., 0., 1., 1., 0., 0., 0., 0., 0., 1., 1., 0., 1., 0., 0., 0.,\n",
       "         1., 0., 0., 0., 1., 1., 1., 1., 0., 1., 1., 1., 0., 1., 1., 1., 1., 0.,\n",
       "         1., 1., 0., 1., 1., 0., 0., 1., 1., 1., 0., 0., 0., 0., 0., 0., 1., 0.,\n",
       "         0., 1., 0., 0., 0., 1., 0., 1., 0., 1., 1., 0., 0., 0., 0., 0., 0., 0.,\n",
       "         0., 1., 0., 1., 0., 0., 0., 1., 0., 0.]))"
      ]
     },
     "execution_count": 4,
     "metadata": {},
     "output_type": "execute_result"
    }
   ],
   "source": [
    "x= torch.from_numpy(x).type(torch.float)\n",
    "y = torch.from_numpy(y).type(torch.float)\n",
    "x,y#\n"
   ]
  },
  {
   "cell_type": "code",
   "execution_count": 5,
   "metadata": {},
   "outputs": [
    {
     "data": {
      "text/plain": [
       "(800, 200, 800, 200)"
      ]
     },
     "execution_count": 5,
     "metadata": {},
     "output_type": "execute_result"
    }
   ],
   "source": [
    "from sklearn.model_selection import train_test_split\n",
    "x_train, x_test, y_train, y_test = train_test_split(x, y, test_size=0.2, random_state=42)\n",
    "len(x_train), len(x_test), len(y_train), len(y_test)"
   ]
  },
  {
   "cell_type": "code",
   "execution_count": 7,
   "metadata": {},
   "outputs": [
    {
     "data": {
      "text/plain": [
       "circlemodel(\n",
       "  (layer1): Linear(in_features=2, out_features=10, bias=True)\n",
       "  (layer2): Linear(in_features=10, out_features=10, bias=True)\n",
       "  (layer3): Linear(in_features=10, out_features=1, bias=True)\n",
       ")"
      ]
     },
     "execution_count": 7,
     "metadata": {},
     "output_type": "execute_result"
    }
   ],
   "source": [
    "class circlemodel(nn.Module):\n",
    "    def __init__(self):\n",
    "        super().__init__()\n",
    "        self.layer1 = nn.Linear(2, 10)\n",
    "        self.layer2 = nn.Linear(10, 10)\n",
    "        self.layer3 = nn.Linear(10, 1)\n",
    "    def forward(self, x):\n",
    "        return self.layer3(self.layer2(self.layer1(x)))\n",
    "model = circlemodel()\n",
    "model"
   ]
  },
  {
   "cell_type": "code",
   "execution_count": 8,
   "metadata": {},
   "outputs": [
    {
     "data": {
      "text/plain": [
       "OrderedDict([('layer1.weight',\n",
       "              tensor([[-0.4285,  0.2201],\n",
       "                      [ 0.5838,  0.0653],\n",
       "                      [ 0.4046,  0.4508],\n",
       "                      [ 0.2206,  0.3924],\n",
       "                      [ 0.4331, -0.4780],\n",
       "                      [-0.3615,  0.5005],\n",
       "                      [-0.4499,  0.4508],\n",
       "                      [-0.3260, -0.0237],\n",
       "                      [-0.6355,  0.6103],\n",
       "                      [-0.0007, -0.6582]])),\n",
       "             ('layer1.bias',\n",
       "              tensor([ 0.3615, -0.4347,  0.1564,  0.1485, -0.0172, -0.2923,  0.2765,  0.0109,\n",
       "                      -0.4086, -0.2679])),\n",
       "             ('layer2.weight',\n",
       "              tensor([[ 0.0796, -0.1302, -0.0353, -0.0824, -0.0732,  0.0313,  0.0165, -0.2081,\n",
       "                       -0.0568, -0.0266],\n",
       "                      [ 0.1667, -0.3088, -0.1761, -0.1114,  0.2978,  0.1344, -0.1359,  0.2075,\n",
       "                        0.1917, -0.0904],\n",
       "                      [-0.0435, -0.0972,  0.1640, -0.3108,  0.1735,  0.1429,  0.2702,  0.2316,\n",
       "                       -0.0245, -0.1300],\n",
       "                      [ 0.0120, -0.2458,  0.0516, -0.0246, -0.1126, -0.1749, -0.0093, -0.0944,\n",
       "                       -0.0437, -0.0651],\n",
       "                      [-0.2484, -0.0692, -0.1110, -0.1793, -0.1294,  0.0265,  0.1090, -0.2140,\n",
       "                       -0.1292, -0.0060],\n",
       "                      [ 0.2802, -0.0032,  0.1378, -0.1365, -0.2506, -0.2813, -0.1951,  0.1571,\n",
       "                        0.1155, -0.2021],\n",
       "                      [ 0.0778,  0.1616, -0.0051,  0.0686,  0.2650, -0.0776, -0.2691,  0.0152,\n",
       "                        0.0281, -0.1161],\n",
       "                      [ 0.1815, -0.0718, -0.2544,  0.2508, -0.0819, -0.0428,  0.0015, -0.0673,\n",
       "                        0.2569, -0.2905],\n",
       "                      [-0.2057,  0.2345, -0.2400,  0.1218,  0.2281, -0.1597,  0.0830,  0.2067,\n",
       "                        0.0525, -0.2677],\n",
       "                      [ 0.0833,  0.2094, -0.2906, -0.2548, -0.1182,  0.2607, -0.1168, -0.3068,\n",
       "                       -0.1885,  0.1993]])),\n",
       "             ('layer2.bias',\n",
       "              tensor([-0.3034, -0.0442,  0.1943,  0.2554,  0.0667, -0.0188,  0.0348,  0.0765,\n",
       "                      -0.0857,  0.1766])),\n",
       "             ('layer3.weight',\n",
       "              tensor([[-0.1556, -0.0401, -0.0893, -0.1273, -0.3131,  0.2500,  0.2666, -0.2919,\n",
       "                       -0.2480, -0.2816]])),\n",
       "             ('layer3.bias', tensor([0.2027]))])"
      ]
     },
     "execution_count": 8,
     "metadata": {},
     "output_type": "execute_result"
    }
   ],
   "source": [
    "model.state_dict()"
   ]
  },
  {
   "cell_type": "code",
   "execution_count": 9,
   "metadata": {},
   "outputs": [],
   "source": [
    "#to find the loss and optimizer\n",
    "loss = nn.BCEWithLogitsLoss()\n",
    "optimizer = torch.optim.SGD(model.parameters(), lr=0.1)\n"
   ]
  },
  {
   "cell_type": "code",
   "execution_count": 13,
   "metadata": {},
   "outputs": [
    {
     "name": "stdout",
     "output_type": "stream",
     "text": [
      "Epoch: 0 | Train loss: 0.69298 | Test loss: 0.69468 | Accuracy: 0.46\n",
      "Epoch: 100 | Train loss: 0.69298 | Test loss: 0.69468 | Accuracy: 0.46\n",
      "Epoch: 200 | Train loss: 0.69298 | Test loss: 0.69468 | Accuracy: 0.46\n",
      "Epoch: 300 | Train loss: 0.69298 | Test loss: 0.69468 | Accuracy: 0.46\n",
      "Epoch: 400 | Train loss: 0.69298 | Test loss: 0.69468 | Accuracy: 0.46\n",
      "Epoch: 500 | Train loss: 0.69298 | Test loss: 0.69468 | Accuracy: 0.46\n",
      "Epoch: 600 | Train loss: 0.69298 | Test loss: 0.69468 | Accuracy: 0.46\n",
      "Epoch: 700 | Train loss: 0.69298 | Test loss: 0.69468 | Accuracy: 0.46\n",
      "Epoch: 800 | Train loss: 0.69298 | Test loss: 0.69468 | Accuracy: 0.46\n",
      "Epoch: 900 | Train loss: 0.69298 | Test loss: 0.69468 | Accuracy: 0.46\n"
     ]
    }
   ],
   "source": [
    "torch.manual_seed(42)\n",
    "torch.cuda.manual_seed(42) \n",
    "\n",
    "epochs = 1000\n",
    "\n",
    "for epoch in range(epochs):\n",
    "    model.train()\n",
    "    y_logits = model(x_train).squeeze()\n",
    "    y_pred = torch.round(torch.sigmoid(y_logits))\n",
    "    \n",
    "    train_loss = loss(y_logits, y_train)\n",
    "    \n",
    "    optimizer.zero_grad()\n",
    "    train_loss.backward()\n",
    "    optimizer.step()\n",
    "    model.eval()\n",
    "    with torch.inference_mode():\n",
    "        y_logits = model(x_test).squeeze()\n",
    "        y_pred = torch.round(torch.sigmoid(y_logits))\n",
    "        test_loss = loss(y_logits, y_test)\n",
    "    if epoch % 100 == 0:\n",
    "        print(f\"Epoch: {epoch} | Train loss: {train_loss:.5f} | Test loss: {test_loss:.5f} | Accuracy: {torch.eq(y_pred, y_test).sum()/len(y_pred):.2f}\")"
   ]
  },
  {
   "cell_type": "code",
   "execution_count": 14,
   "metadata": {},
   "outputs": [
    {
     "name": "stdout",
     "output_type": "stream",
     "text": [
      "helper_functions.py already exists, skipping download.\n"
     ]
    }
   ],
   "source": [
    "import requests\n",
    "from pathlib import Path\n",
    "\n",
    "if Path(\"helper_functions.py\").is_file():\n",
    "    print(\"helper_functions.py already exists, skipping download.\")\n",
    "else:\n",
    "    print(\"Downloading helper_functions.py...\")\n",
    "    url = \"https://raw.githubusercontent.com/mrdbourke/pytorch-deep-learning/main/helper_functions.py\"\n",
    "    response = requests.get(url)\n",
    "    with open(\"helper_functions.py\", \"wb\") as file:\n",
    "        file.write(response.content)\n",
    "from helper_functions import plot_decision_boundary, plot_predictions"
   ]
  },
  {
   "cell_type": "code",
   "execution_count": 16,
   "metadata": {},
   "outputs": [
    {
     "data": {
      "image/png": "[encoded data removed]",
      "text/plain": [
       "<Figure size 640x480 with 2 Axes>"
      ]
     },
     "metadata": {},
     "output_type": "display_data"
    }
   ],
   "source": [
    "plt.subplot(1, 2, 1)\n",
    "plot_decision_boundary(model, x_train, y_train)\n",
    "plt.subplot(1, 2, 2)\n",
    "plot_decision_boundary(model, x_test, y_test)"
   ]
  },
  {
   "cell_type": "code",
   "execution_count": 31,
   "metadata": {},
   "outputs": [
    {
     "name": "stdout",
     "output_type": "stream",
     "text": [
      "100 100\n"
     ]
    }
   ],
   "source": [
    "#check our model can fit a straight line or not\n",
    "weight = 0.7\n",
    "bias = 0.3\n",
    "start = 0\n",
    "end = 1\n",
    "step = 0.01\n",
    "\n",
    "x1 = torch.arange(start, end, step).unsqueeze(dim=1)\n",
    "y1 = weight * x1 + bias\n",
    "\n",
    "print(len(x1), len(y))"
   ]
  },
  {
   "cell_type": "code",
   "execution_count": 35,
   "metadata": {},
   "outputs": [
    {
     "data": {
      "text/plain": [
       "(80, 20, 80, 20)"
      ]
     },
     "execution_count": 35,
     "metadata": {},
     "output_type": "execute_result"
    }
   ],
   "source": [
    "train_split = int(0.8 * len(x1))\n",
    "xtrain,ytrain = x1[:train_split], y1[:train_split]\n",
    "xtest,ytest = x1[train_split:], y1[train_split:]\n",
    "len(xtrain), len(xtest), len(ytrain), len(ytest)"
   ]
  },
  {
   "cell_type": "code",
   "execution_count": 36,
   "metadata": {},
   "outputs": [
    {
     "data": {
      "image/png": "[encoded data removed]",
      "text/plain": [
       "<Figure size 1000x700 with 1 Axes>"
      ]
     },
     "metadata": {},
     "output_type": "display_data"
    }
   ],
   "source": [
    "plot_predictions(xtrain, ytrain, xtest, ytest)"
   ]
  },
  {
   "cell_type": "code",
   "execution_count": 37,
   "metadata": {},
   "outputs": [
    {
     "data": {
      "text/plain": [
       "circlemodel(\n",
       "  (layer1): Linear(in_features=2, out_features=10, bias=True)\n",
       "  (layer2): Linear(in_features=10, out_features=10, bias=True)\n",
       "  (layer3): Linear(in_features=10, out_features=1, bias=True)\n",
       ")"
      ]
     },
     "execution_count": 37,
     "metadata": {},
     "output_type": "execute_result"
    }
   ],
   "source": [
    "model"
   ]
  },
  {
   "cell_type": "code",
   "execution_count": 38,
   "metadata": {},
   "outputs": [
    {
     "data": {
      "text/plain": [
       "(tensor([[0.0000],\n",
       "         [0.0100],\n",
       "         [0.0200],\n",
       "         [0.0300],\n",
       "         [0.0400],\n",
       "         [0.0500],\n",
       "         [0.0600],\n",
       "         [0.0700],\n",
       "         [0.0800],\n",
       "         [0.0900],\n",
       "         [0.1000],\n",
       "         [0.1100],\n",
       "         [0.1200],\n",
       "         [0.1300],\n",
       "         [0.1400],\n",
       "         [0.1500],\n",
       "         [0.1600],\n",
       "         [0.1700],\n",
       "         [0.1800],\n",
       "         [0.1900],\n",
       "         [0.2000],\n",
       "         [0.2100],\n",
       "         [0.2200],\n",
       "         [0.2300],\n",
       "         [0.2400],\n",
       "         [0.2500],\n",
       "         [0.2600],\n",
       "         [0.2700],\n",
       "         [0.2800],\n",
       "         [0.2900],\n",
       "         [0.3000],\n",
       "         [0.3100],\n",
       "         [0.3200],\n",
       "         [0.3300],\n",
       "         [0.3400],\n",
       "         [0.3500],\n",
       "         [0.3600],\n",
       "         [0.3700],\n",
       "         [0.3800],\n",
       "         [0.3900],\n",
       "         [0.4000],\n",
       "         [0.4100],\n",
       "         [0.4200],\n",
       "         [0.4300],\n",
       "         [0.4400],\n",
       "         [0.4500],\n",
       "         [0.4600],\n",
       "         [0.4700],\n",
       "         [0.4800],\n",
       "         [0.4900],\n",
       "         [0.5000],\n",
       "         [0.5100],\n",
       "         [0.5200],\n",
       "         [0.5300],\n",
       "         [0.5400],\n",
       "         [0.5500],\n",
       "         [0.5600],\n",
       "         [0.5700],\n",
       "         [0.5800],\n",
       "         [0.5900],\n",
       "         [0.6000],\n",
       "         [0.6100],\n",
       "         [0.6200],\n",
       "         [0.6300],\n",
       "         [0.6400],\n",
       "         [0.6500],\n",
       "         [0.6600],\n",
       "         [0.6700],\n",
       "         [0.6800],\n",
       "         [0.6900],\n",
       "         [0.7000],\n",
       "         [0.7100],\n",
       "         [0.7200],\n",
       "         [0.7300],\n",
       "         [0.7400],\n",
       "         [0.7500],\n",
       "         [0.7600],\n",
       "         [0.7700],\n",
       "         [0.7800],\n",
       "         [0.7900]]),\n",
       " tensor([[0.3000],\n",
       "         [0.3070],\n",
       "         [0.3140],\n",
       "         [0.3210],\n",
       "         [0.3280],\n",
       "         [0.3350],\n",
       "         [0.3420],\n",
       "         [0.3490],\n",
       "         [0.3560],\n",
       "         [0.3630],\n",
       "         [0.3700],\n",
       "         [0.3770],\n",
       "         [0.3840],\n",
       "         [0.3910],\n",
       "         [0.3980],\n",
       "         [0.4050],\n",
       "         [0.4120],\n",
       "         [0.4190],\n",
       "         [0.4260],\n",
       "         [0.4330],\n",
       "         [0.4400],\n",
       "         [0.4470],\n",
       "         [0.4540],\n",
       "         [0.4610],\n",
       "         [0.4680],\n",
       "         [0.4750],\n",
       "         [0.4820],\n",
       "         [0.4890],\n",
       "         [0.4960],\n",
       "         [0.5030],\n",
       "         [0.5100],\n",
       "         [0.5170],\n",
       "         [0.5240],\n",
       "         [0.5310],\n",
       "         [0.5380],\n",
       "         [0.5450],\n",
       "         [0.5520],\n",
       "         [0.5590],\n",
       "         [0.5660],\n",
       "         [0.5730],\n",
       "         [0.5800],\n",
       "         [0.5870],\n",
       "         [0.5940],\n",
       "         [0.6010],\n",
       "         [0.6080],\n",
       "         [0.6150],\n",
       "         [0.6220],\n",
       "         [0.6290],\n",
       "         [0.6360],\n",
       "         [0.6430],\n",
       "         [0.6500],\n",
       "         [0.6570],\n",
       "         [0.6640],\n",
       "         [0.6710],\n",
       "         [0.6780],\n",
       "         [0.6850],\n",
       "         [0.6920],\n",
       "         [0.6990],\n",
       "         [0.7060],\n",
       "         [0.7130],\n",
       "         [0.7200],\n",
       "         [0.7270],\n",
       "         [0.7340],\n",
       "         [0.7410],\n",
       "         [0.7480],\n",
       "         [0.7550],\n",
       "         [0.7620],\n",
       "         [0.7690],\n",
       "         [0.7760],\n",
       "         [0.7830],\n",
       "         [0.7900],\n",
       "         [0.7970],\n",
       "         [0.8040],\n",
       "         [0.8110],\n",
       "         [0.8180],\n",
       "         [0.8250],\n",
       "         [0.8320],\n",
       "         [0.8390],\n",
       "         [0.8460],\n",
       "         [0.8530]]))"
      ]
     },
     "execution_count": 38,
     "metadata": {},
     "output_type": "execute_result"
    }
   ],
   "source": [
    "xtrain,ytrain#you see here that we have working with 2D data, so we need to change the model to work with 1D data so we create a new model"
   ]
  },
  {
   "cell_type": "code",
   "execution_count": 39,
   "metadata": {},
   "outputs": [
    {
     "data": {
      "text/plain": [
       "Sequential(\n",
       "  (0): Linear(in_features=1, out_features=10, bias=True)\n",
       "  (1): Linear(in_features=10, out_features=10, bias=True)\n",
       "  (2): Linear(in_features=10, out_features=1, bias=True)\n",
       ")"
      ]
     },
     "execution_count": 39,
     "metadata": {},
     "output_type": "execute_result"
    }
   ],
   "source": [
    "model1 = nn.Sequential(\n",
    "    nn.Linear(1, 10),\n",
    "    nn.Linear(10, 10),\n",
    "    nn.Linear(10, 1)\n",
    ")\n",
    "model1"
   ]
  },
  {
   "cell_type": "code",
   "execution_count": 51,
   "metadata": {},
   "outputs": [],
   "source": [
    "#loss and optimizer\n",
    "loss1 = nn.L1Loss()\n",
    "optimizer1 = torch.optim.SGD(model1.parameters(), lr=0.1)"
   ]
  },
  {
   "cell_type": "code",
   "execution_count": 52,
   "metadata": {},
   "outputs": [
    {
     "name": "stdout",
     "output_type": "stream",
     "text": [
      "Epoch: 0 | Train loss: 0.21742 | Test loss: 0.15940 | Accuracy: 0.00\n",
      "Epoch: 100 | Train loss: 0.05028 | Test loss: 0.12086 | Accuracy: 0.00\n",
      "Epoch: 200 | Train loss: 0.05430 | Test loss: 0.11527 | Accuracy: 0.00\n",
      "Epoch: 300 | Train loss: 0.04883 | Test loss: 0.12532 | Accuracy: 0.00\n",
      "Epoch: 400 | Train loss: 0.05485 | Test loss: 0.11507 | Accuracy: 0.00\n",
      "Epoch: 500 | Train loss: 0.05986 | Test loss: 0.11699 | Accuracy: 0.00\n",
      "Epoch: 600 | Train loss: 0.04860 | Test loss: 0.11942 | Accuracy: 0.00\n",
      "Epoch: 700 | Train loss: 0.04554 | Test loss: 0.11136 | Accuracy: 0.00\n",
      "Epoch: 800 | Train loss: 0.05100 | Test loss: 0.12237 | Accuracy: 0.00\n",
      "Epoch: 900 | Train loss: 0.05330 | Test loss: 0.10569 | Accuracy: 0.00\n"
     ]
    }
   ],
   "source": [
    "#train model\n",
    "torch.manual_seed(42)\n",
    "torch.cuda.manual_seed(42)\n",
    "epochs1 = 1000\n",
    "\n",
    "for epoch in range(epochs1):\n",
    "    model1.train()\n",
    "    train_pred = model1(xtrain)\n",
    "    \n",
    "    train_loss1 = loss1(train_pred, ytrain)\n",
    "    \n",
    "    optimizer1.zero_grad()\n",
    "    train_loss1.backward()\n",
    "    optimizer1.step()\n",
    "    \n",
    "    model1.eval()\n",
    "    with torch.inference_mode():\n",
    "        test_pred = model1(xtest)\n",
    "        test_loss1 = loss1(test_pred, ytest)\n",
    "    \n",
    "    if epoch % 100 == 0:\n",
    "       print(f\"Epoch: {epoch} | Train loss: {train_loss1:.5f} | Test loss: {test_loss1:.5f} | Accuracy: {torch.eq(test_pred, ytest).sum()/len(test_pred):.2f}\")"
   ]
  },
  {
   "cell_type": "code",
   "execution_count": 67,
   "metadata": {},
   "outputs": [
    {
     "data": {
      "image/png": "[encoded data removed]",
      "text/plain": [
       "<Figure size 1000x700 with 1 Axes>"
      ]
     },
     "metadata": {},
     "output_type": "display_data"
    }
   ],
   "source": [
    "model1.eval()\n",
    "with torch.inference_mode():\n",
    "    preds = model1(xtest)\n",
    "    preds = preds.squeeze()\n",
    "    plot_predictions(train_data=xtrain, train_labels=ytrain,test_data= xtest, test_labels=ytest, predictions=preds)"
   ]
  },
  {
   "cell_type": "code",
   "execution_count": 66,
   "metadata": {},
   "outputs": [
    {
     "data": {
      "text/plain": [
       "(tensor([[0.8000],\n",
       "         [0.8100],\n",
       "         [0.8200],\n",
       "         [0.8300],\n",
       "         [0.8400],\n",
       "         [0.8500],\n",
       "         [0.8600],\n",
       "         [0.8700],\n",
       "         [0.8800],\n",
       "         [0.8900],\n",
       "         [0.9000],\n",
       "         [0.9100],\n",
       "         [0.9200],\n",
       "         [0.9300],\n",
       "         [0.9400],\n",
       "         [0.9500],\n",
       "         [0.9600],\n",
       "         [0.9700],\n",
       "         [0.9800],\n",
       "         [0.9900]]),\n",
       " tensor([0.3961, 0.4021, 0.4082, 0.4143, 0.4204, 0.4264, 0.4325, 0.4386, 0.4447,\n",
       "         0.4507, 0.4568, 0.4629, 0.4690, 0.4750, 0.4811, 0.4872, 0.4933, 0.4993,\n",
       "         0.5054, 0.5115, 0.5176, 0.5236, 0.5297, 0.5358, 0.5419, 0.5479, 0.5540,\n",
       "         0.5601, 0.5662, 0.5722, 0.5783, 0.5844, 0.5905, 0.5965, 0.6026, 0.6087,\n",
       "         0.6148, 0.6208, 0.6269, 0.6330, 0.6391, 0.6451, 0.6512, 0.6573, 0.6634,\n",
       "         0.6694, 0.6755, 0.6816, 0.6877, 0.6937, 0.6998, 0.7059, 0.7120, 0.7180,\n",
       "         0.7241, 0.7302, 0.7363, 0.7423, 0.7484, 0.7545, 0.7606, 0.7666, 0.7727,\n",
       "         0.7788, 0.7849, 0.7909, 0.7970, 0.8031, 0.8092, 0.8152, 0.8213, 0.8274,\n",
       "         0.8335, 0.8395, 0.8456, 0.8517, 0.8578, 0.8638, 0.8699, 0.8760]))"
      ]
     },
     "execution_count": 66,
     "metadata": {},
     "output_type": "execute_result"
    }
   ],
   "source": [
    "xtest,preds"
   ]
  },
  {
   "cell_type": "code",
   "execution_count": null,
   "metadata": {},
   "outputs": [],
   "source": []
  }
 ],
 "metadata": {
  "kernelspec": {
   "display_name": "Python 3",
   "language": "python",
   "name": "python3"
  },
  "language_info": {
   "codemirror_mode": {
    "name": "ipython",
    "version": 3
   },
   "file_extension": ".py",
   "mimetype": "text/x-python",
   "name": "python",
   "nbconvert_exporter": "python",
   "pygments_lexer": "ipython3",
   "version": "3.13.5"
  }
 },
 "nbformat": 4,
 "nbformat_minor": 2
}
