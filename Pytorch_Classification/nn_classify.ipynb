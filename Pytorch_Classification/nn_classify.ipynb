{
 "cells": [
  {
   "cell_type": "code",
   "execution_count": 4,
   "metadata": {},
   "outputs": [
    {
     "data": {
      "text/plain": [
       "(1000, 1000)"
      ]
     },
     "execution_count": 4,
     "metadata": {},
     "output_type": "execute_result"
    }
   ],
   "source": [
    "#Neural Network Classification with Pytorch\n",
    "from sklearn.datasets import make_circles\n",
    "samples = 1000\n",
    "x,y = make_circles(n_samples=samples, noise=0.03, random_state=42)#features and labels\n",
    "len(x), len(y)"
   ]
  },
  {
   "cell_type": "code",
   "execution_count": 5,
   "metadata": {},
   "outputs": [
    {
     "data": {
      "text/plain": [
       "(array([[ 0.75424625,  0.23148074],\n",
       "        [-0.75615888,  0.15325888],\n",
       "        [-0.81539193,  0.17328203],\n",
       "        ...,\n",
       "        [-0.13690036, -0.81001183],\n",
       "        [ 0.67036156, -0.76750154],\n",
       "        [ 0.28105665,  0.96382443]], shape=(1000, 2)),\n",
       " array([1, 1, 1, 1, 0, 1, 1, 1, 1, 0, 1, 0, 1, 1, 1, 1, 0, 1, 1, 0, 1, 0,\n",
       "        0, 1, 0, 0, 0, 1, 1, 1, 0, 0, 1, 0, 0, 0, 1, 1, 1, 0, 0, 0, 0, 1,\n",
       "        0, 0, 1, 1, 0, 1, 1, 1, 0, 1, 0, 0, 1, 0, 0, 1, 0, 0, 1, 0, 1, 1,\n",
       "        1, 1, 0, 1, 0, 0, 1, 1, 0, 0, 1, 0, 1, 0, 1, 0, 0, 0, 0, 1, 1, 1,\n",
       "        1, 0, 0, 0, 1, 0, 1, 0, 1, 0, 0, 1, 1, 0, 1, 0, 1, 1, 1, 1, 0, 1,\n",
       "        1, 1, 1, 1, 0, 0, 0, 1, 1, 0, 1, 0, 1, 0, 0, 1, 1, 0, 1, 1, 1, 1,\n",
       "        0, 1, 1, 0, 0, 0, 0, 0, 0, 0, 1, 0, 1, 1, 1, 0, 1, 0, 1, 0, 1, 0,\n",
       "        1, 0, 0, 1, 0, 1, 1, 1, 1, 1, 1, 1, 0, 1, 0, 0, 0, 0, 0, 1, 0, 0,\n",
       "        0, 0, 1, 1, 0, 1, 0, 1, 1, 0, 0, 0, 1, 1, 1, 1, 1, 0, 0, 0, 0, 0,\n",
       "        1, 0, 0, 1, 1, 1, 1, 1, 0, 1, 0, 1, 0, 0, 1, 1, 1, 0, 1, 0, 1, 1,\n",
       "        0, 1, 1, 0, 1, 0, 1, 0, 1, 1, 0, 1, 0, 1, 0, 0, 0, 1, 0, 0, 0, 0,\n",
       "        1, 1, 0, 0, 0, 0, 0, 0, 0, 1, 1, 1, 0, 0, 1, 1, 1, 0, 1, 0, 0, 0,\n",
       "        0, 1, 1, 0, 1, 0, 0, 0, 1, 0, 1, 0, 0, 1, 0, 1, 1, 1, 0, 0, 0, 1,\n",
       "        0, 0, 0, 1, 1, 1, 1, 0, 0, 0, 1, 0, 0, 0, 1, 0, 0, 0, 1, 1, 0, 1,\n",
       "        1, 1, 1, 1, 1, 1, 0, 0, 0, 0, 1, 0, 0, 0, 0, 1, 1, 1, 0, 0, 1, 0,\n",
       "        1, 0, 1, 1, 0, 0, 1, 1, 1, 1, 0, 0, 0, 0, 0, 0, 1, 1, 0, 1, 0, 0,\n",
       "        1, 0, 0, 0, 0, 0, 0, 0, 0, 1, 0, 0, 0, 0, 1, 0, 0, 1, 0, 1, 0, 0,\n",
       "        0, 1, 0, 0, 1, 1, 0, 0, 1, 0, 0, 1, 1, 0, 1, 1, 0, 0, 1, 0, 1, 0,\n",
       "        0, 0, 1, 1, 0, 0, 1, 1, 1, 1, 1, 0, 0, 1, 1, 1, 1, 0, 1, 1, 1, 1,\n",
       "        1, 0, 0, 1, 0, 1, 0, 0, 0, 0, 1, 0, 0, 0, 0, 0, 0, 0, 0, 0, 1, 1,\n",
       "        0, 1, 1, 1, 1, 1, 1, 0, 1, 1, 1, 1, 0, 0, 0, 1, 1, 1, 0, 0, 0, 0,\n",
       "        1, 1, 0, 0, 0, 0, 1, 0, 0, 0, 1, 0, 0, 1, 1, 1, 1, 1, 1, 0, 0, 0,\n",
       "        1, 0, 0, 0, 0, 0, 1, 1, 1, 0, 0, 0, 0, 0, 1, 1, 1, 0, 0, 1, 1, 1,\n",
       "        1, 0, 1, 1, 0, 1, 0, 0, 0, 1, 0, 0, 1, 0, 0, 1, 1, 0, 0, 1, 1, 0,\n",
       "        1, 0, 1, 0, 1, 0, 1, 0, 0, 0, 1, 0, 0, 0, 0, 0, 0, 1, 1, 1, 1, 0,\n",
       "        0, 0, 1, 0, 1, 1, 0, 0, 0, 0, 0, 1, 1, 1, 0, 0, 1, 0, 0, 1, 0, 0,\n",
       "        1, 0, 0, 1, 0, 0, 0, 1, 0, 0, 1, 1, 1, 0, 1, 1, 0, 0, 0, 1, 1, 1,\n",
       "        1, 0, 0, 1, 1, 1, 0, 0, 0, 0, 1, 1, 0, 0, 1, 1, 0, 0, 1, 1, 1, 1,\n",
       "        1, 1, 1, 0, 1, 0, 1, 0, 0, 1, 0, 1, 1, 1, 1, 0, 0, 1, 1, 0, 0, 1,\n",
       "        0, 1, 0, 0, 0, 1, 0, 0, 1, 1, 1, 1, 0, 1, 1, 1, 1, 1, 1, 1, 0, 1,\n",
       "        0, 1, 1, 1, 0, 0, 1, 0, 0, 0, 1, 1, 1, 1, 0, 0, 0, 0, 1, 0, 1, 1,\n",
       "        1, 0, 1, 0, 0, 1, 0, 0, 1, 1, 1, 1, 1, 0, 1, 0, 0, 0, 1, 1, 1, 1,\n",
       "        1, 0, 0, 0, 1, 1, 1, 1, 0, 0, 0, 0, 0, 1, 1, 0, 1, 0, 1, 0, 0, 0,\n",
       "        0, 0, 0, 0, 0, 0, 1, 1, 1, 1, 1, 0, 1, 0, 1, 1, 1, 1, 0, 1, 1, 1,\n",
       "        1, 1, 1, 1, 1, 0, 1, 1, 0, 1, 0, 0, 0, 1, 0, 1, 1, 1, 0, 1, 1, 0,\n",
       "        1, 1, 0, 1, 0, 1, 1, 0, 0, 1, 1, 1, 0, 0, 0, 0, 1, 1, 0, 0, 1, 1,\n",
       "        1, 1, 1, 1, 1, 1, 1, 1, 1, 1, 1, 1, 0, 0, 1, 0, 1, 0, 1, 0, 1, 1,\n",
       "        1, 1, 1, 1, 0, 1, 0, 1, 1, 1, 0, 1, 1, 0, 0, 1, 0, 1, 1, 0, 0, 1,\n",
       "        1, 1, 1, 1, 1, 1, 1, 0, 1, 1, 1, 0, 1, 0, 0, 1, 1, 0, 0, 0, 1, 0,\n",
       "        0, 1, 0, 0, 0, 1, 0, 1, 0, 0, 0, 0, 1, 0, 1, 1, 1, 1, 0, 1, 0, 0,\n",
       "        0, 0, 0, 0, 1, 0, 1, 0, 1, 0, 1, 1, 1, 0, 1, 0, 1, 0, 0, 1, 1, 1,\n",
       "        0, 0, 0, 1, 1, 0, 1, 0, 1, 1, 0, 1, 0, 0, 1, 1, 1, 0, 0, 0, 1, 1,\n",
       "        0, 0, 0, 0, 0, 1, 1, 0, 1, 0, 0, 0, 1, 0, 0, 0, 1, 1, 1, 1, 0, 1,\n",
       "        1, 1, 0, 1, 1, 1, 1, 0, 1, 1, 0, 1, 1, 0, 0, 1, 1, 1, 0, 0, 0, 0,\n",
       "        0, 0, 1, 0, 0, 1, 0, 0, 0, 1, 0, 1, 0, 1, 1, 0, 0, 0, 0, 0, 0, 0,\n",
       "        0, 1, 0, 1, 0, 0, 0, 1, 0, 0]))"
      ]
     },
     "execution_count": 5,
     "metadata": {},
     "output_type": "execute_result"
    }
   ],
   "source": [
    "x,y"
   ]
  },
  {
   "cell_type": "code",
   "execution_count": 25,
   "metadata": {},
   "outputs": [
    {
     "data": {
      "text/html": [
       "<div>\n",
       "<style scoped>\n",
       "    .dataframe tbody tr th:only-of-type {\n",
       "        vertical-align: middle;\n",
       "    }\n",
       "\n",
       "    .dataframe tbody tr th {\n",
       "        vertical-align: top;\n",
       "    }\n",
       "\n",
       "    .dataframe thead th {\n",
       "        text-align: right;\n",
       "    }\n",
       "</style>\n",
       "<table border=\"1\" class=\"dataframe\">\n",
       "  <thead>\n",
       "    <tr style=\"text-align: right;\">\n",
       "      <th></th>\n",
       "      <th>x1</th>\n",
       "      <th>x2</th>\n",
       "      <th>label</th>\n",
       "    </tr>\n",
       "  </thead>\n",
       "  <tbody>\n",
       "    <tr>\n",
       "      <th>0</th>\n",
       "      <td>0.754246</td>\n",
       "      <td>0.231481</td>\n",
       "      <td>1.0</td>\n",
       "    </tr>\n",
       "    <tr>\n",
       "      <th>1</th>\n",
       "      <td>-0.756159</td>\n",
       "      <td>0.153259</td>\n",
       "      <td>1.0</td>\n",
       "    </tr>\n",
       "    <tr>\n",
       "      <th>2</th>\n",
       "      <td>-0.815392</td>\n",
       "      <td>0.173282</td>\n",
       "      <td>1.0</td>\n",
       "    </tr>\n",
       "    <tr>\n",
       "      <th>3</th>\n",
       "      <td>-0.393731</td>\n",
       "      <td>0.692883</td>\n",
       "      <td>1.0</td>\n",
       "    </tr>\n",
       "    <tr>\n",
       "      <th>4</th>\n",
       "      <td>0.442208</td>\n",
       "      <td>-0.896723</td>\n",
       "      <td>0.0</td>\n",
       "    </tr>\n",
       "    <tr>\n",
       "      <th>...</th>\n",
       "      <td>...</td>\n",
       "      <td>...</td>\n",
       "      <td>...</td>\n",
       "    </tr>\n",
       "    <tr>\n",
       "      <th>995</th>\n",
       "      <td>0.244054</td>\n",
       "      <td>0.944125</td>\n",
       "      <td>0.0</td>\n",
       "    </tr>\n",
       "    <tr>\n",
       "      <th>996</th>\n",
       "      <td>-0.978655</td>\n",
       "      <td>-0.272373</td>\n",
       "      <td>0.0</td>\n",
       "    </tr>\n",
       "    <tr>\n",
       "      <th>997</th>\n",
       "      <td>-0.136900</td>\n",
       "      <td>-0.810012</td>\n",
       "      <td>1.0</td>\n",
       "    </tr>\n",
       "    <tr>\n",
       "      <th>998</th>\n",
       "      <td>0.670362</td>\n",
       "      <td>-0.767502</td>\n",
       "      <td>0.0</td>\n",
       "    </tr>\n",
       "    <tr>\n",
       "      <th>999</th>\n",
       "      <td>0.281057</td>\n",
       "      <td>0.963824</td>\n",
       "      <td>0.0</td>\n",
       "    </tr>\n",
       "  </tbody>\n",
       "</table>\n",
       "<p>1000 rows × 3 columns</p>\n",
       "</div>"
      ],
      "text/plain": [
       "           x1        x2  label\n",
       "0    0.754246  0.231481    1.0\n",
       "1   -0.756159  0.153259    1.0\n",
       "2   -0.815392  0.173282    1.0\n",
       "3   -0.393731  0.692883    1.0\n",
       "4    0.442208 -0.896723    0.0\n",
       "..        ...       ...    ...\n",
       "995  0.244054  0.944125    0.0\n",
       "996 -0.978655 -0.272373    0.0\n",
       "997 -0.136900 -0.810012    1.0\n",
       "998  0.670362 -0.767502    0.0\n",
       "999  0.281057  0.963824    0.0\n",
       "\n",
       "[1000 rows x 3 columns]"
      ]
     },
     "execution_count": 25,
     "metadata": {},
     "output_type": "execute_result"
    }
   ],
   "source": [
    "import torch\n",
    "from torch import nn\n",
    "import pandas as pd\n",
    "df=pd.DataFrame({\"x1\":x[:,0], \"x2\":x[:,1], \"label\":y})\n",
    "df"
   ]
  },
  {
   "cell_type": "code",
   "execution_count": 7,
   "metadata": {},
   "outputs": [
    {
     "data": {
      "text/plain": [
       "<matplotlib.collections.PathCollection at 0x7f94a7bf5d30>"
      ]
     },
     "execution_count": 7,
     "metadata": {},
     "output_type": "execute_result"
    },
    {
     "data": {
      "image/png": "[encoded data removed]",
      "text/plain": [
       "<Figure size 640x480 with 1 Axes>"
      ]
     },
     "metadata": {},
     "output_type": "display_data"
    }
   ],
   "source": [
    "import matplotlib.pyplot as plt\n",
    "plt.scatter(x=x[:,0], y=x[:,1], c=y, cmap=plt.cm.RdYlBu)"
   ]
  },
  {
   "cell_type": "code",
   "execution_count": 8,
   "metadata": {},
   "outputs": [
    {
     "data": {
      "text/plain": [
       "((1000, 2), (1000,))"
      ]
     },
     "execution_count": 8,
     "metadata": {},
     "output_type": "execute_result"
    }
   ],
   "source": [
    "x.shape,y.shape"
   ]
  },
  {
   "cell_type": "code",
   "execution_count": 9,
   "metadata": {},
   "outputs": [
    {
     "data": {
      "text/plain": [
       "(numpy.ndarray, numpy.ndarray)"
      ]
     },
     "execution_count": 9,
     "metadata": {},
     "output_type": "execute_result"
    }
   ],
   "source": [
    "type(x), type(y)"
   ]
  },
  {
   "cell_type": "code",
   "execution_count": 10,
   "metadata": {},
   "outputs": [
    {
     "data": {
      "text/plain": [
       "(tensor([[ 0.7542,  0.2315],\n",
       "         [-0.7562,  0.1533],\n",
       "         [-0.8154,  0.1733],\n",
       "         ...,\n",
       "         [-0.1369, -0.8100],\n",
       "         [ 0.6704, -0.7675],\n",
       "         [ 0.2811,  0.9638]]),\n",
       " tensor([1., 1., 1., 1., 0., 1., 1., 1., 1., 0., 1., 0., 1., 1., 1., 1., 0., 1.,\n",
       "         1., 0., 1., 0., 0., 1., 0., 0., 0., 1., 1., 1., 0., 0., 1., 0., 0., 0.,\n",
       "         1., 1., 1., 0., 0., 0., 0., 1., 0., 0., 1., 1., 0., 1., 1., 1., 0., 1.,\n",
       "         0., 0., 1., 0., 0., 1., 0., 0., 1., 0., 1., 1., 1., 1., 0., 1., 0., 0.,\n",
       "         1., 1., 0., 0., 1., 0., 1., 0., 1., 0., 0., 0., 0., 1., 1., 1., 1., 0.,\n",
       "         0., 0., 1., 0., 1., 0., 1., 0., 0., 1., 1., 0., 1., 0., 1., 1., 1., 1.,\n",
       "         0., 1., 1., 1., 1., 1., 0., 0., 0., 1., 1., 0., 1., 0., 1., 0., 0., 1.,\n",
       "         1., 0., 1., 1., 1., 1., 0., 1., 1., 0., 0., 0., 0., 0., 0., 0., 1., 0.,\n",
       "         1., 1., 1., 0., 1., 0., 1., 0., 1., 0., 1., 0., 0., 1., 0., 1., 1., 1.,\n",
       "         1., 1., 1., 1., 0., 1., 0., 0., 0., 0., 0., 1., 0., 0., 0., 0., 1., 1.,\n",
       "         0., 1., 0., 1., 1., 0., 0., 0., 1., 1., 1., 1., 1., 0., 0., 0., 0., 0.,\n",
       "         1., 0., 0., 1., 1., 1., 1., 1., 0., 1., 0., 1., 0., 0., 1., 1., 1., 0.,\n",
       "         1., 0., 1., 1., 0., 1., 1., 0., 1., 0., 1., 0., 1., 1., 0., 1., 0., 1.,\n",
       "         0., 0., 0., 1., 0., 0., 0., 0., 1., 1., 0., 0., 0., 0., 0., 0., 0., 1.,\n",
       "         1., 1., 0., 0., 1., 1., 1., 0., 1., 0., 0., 0., 0., 1., 1., 0., 1., 0.,\n",
       "         0., 0., 1., 0., 1., 0., 0., 1., 0., 1., 1., 1., 0., 0., 0., 1., 0., 0.,\n",
       "         0., 1., 1., 1., 1., 0., 0., 0., 1., 0., 0., 0., 1., 0., 0., 0., 1., 1.,\n",
       "         0., 1., 1., 1., 1., 1., 1., 1., 0., 0., 0., 0., 1., 0., 0., 0., 0., 1.,\n",
       "         1., 1., 0., 0., 1., 0., 1., 0., 1., 1., 0., 0., 1., 1., 1., 1., 0., 0.,\n",
       "         0., 0., 0., 0., 1., 1., 0., 1., 0., 0., 1., 0., 0., 0., 0., 0., 0., 0.,\n",
       "         0., 1., 0., 0., 0., 0., 1., 0., 0., 1., 0., 1., 0., 0., 0., 1., 0., 0.,\n",
       "         1., 1., 0., 0., 1., 0., 0., 1., 1., 0., 1., 1., 0., 0., 1., 0., 1., 0.,\n",
       "         0., 0., 1., 1., 0., 0., 1., 1., 1., 1., 1., 0., 0., 1., 1., 1., 1., 0.,\n",
       "         1., 1., 1., 1., 1., 0., 0., 1., 0., 1., 0., 0., 0., 0., 1., 0., 0., 0.,\n",
       "         0., 0., 0., 0., 0., 0., 1., 1., 0., 1., 1., 1., 1., 1., 1., 0., 1., 1.,\n",
       "         1., 1., 0., 0., 0., 1., 1., 1., 0., 0., 0., 0., 1., 1., 0., 0., 0., 0.,\n",
       "         1., 0., 0., 0., 1., 0., 0., 1., 1., 1., 1., 1., 1., 0., 0., 0., 1., 0.,\n",
       "         0., 0., 0., 0., 1., 1., 1., 0., 0., 0., 0., 0., 1., 1., 1., 0., 0., 1.,\n",
       "         1., 1., 1., 0., 1., 1., 0., 1., 0., 0., 0., 1., 0., 0., 1., 0., 0., 1.,\n",
       "         1., 0., 0., 1., 1., 0., 1., 0., 1., 0., 1., 0., 1., 0., 0., 0., 1., 0.,\n",
       "         0., 0., 0., 0., 0., 1., 1., 1., 1., 0., 0., 0., 1., 0., 1., 1., 0., 0.,\n",
       "         0., 0., 0., 1., 1., 1., 0., 0., 1., 0., 0., 1., 0., 0., 1., 0., 0., 1.,\n",
       "         0., 0., 0., 1., 0., 0., 1., 1., 1., 0., 1., 1., 0., 0., 0., 1., 1., 1.,\n",
       "         1., 0., 0., 1., 1., 1., 0., 0., 0., 0., 1., 1., 0., 0., 1., 1., 0., 0.,\n",
       "         1., 1., 1., 1., 1., 1., 1., 0., 1., 0., 1., 0., 0., 1., 0., 1., 1., 1.,\n",
       "         1., 0., 0., 1., 1., 0., 0., 1., 0., 1., 0., 0., 0., 1., 0., 0., 1., 1.,\n",
       "         1., 1., 0., 1., 1., 1., 1., 1., 1., 1., 0., 1., 0., 1., 1., 1., 0., 0.,\n",
       "         1., 0., 0., 0., 1., 1., 1., 1., 0., 0., 0., 0., 1., 0., 1., 1., 1., 0.,\n",
       "         1., 0., 0., 1., 0., 0., 1., 1., 1., 1., 1., 0., 1., 0., 0., 0., 1., 1.,\n",
       "         1., 1., 1., 0., 0., 0., 1., 1., 1., 1., 0., 0., 0., 0., 0., 1., 1., 0.,\n",
       "         1., 0., 1., 0., 0., 0., 0., 0., 0., 0., 0., 0., 1., 1., 1., 1., 1., 0.,\n",
       "         1., 0., 1., 1., 1., 1., 0., 1., 1., 1., 1., 1., 1., 1., 1., 0., 1., 1.,\n",
       "         0., 1., 0., 0., 0., 1., 0., 1., 1., 1., 0., 1., 1., 0., 1., 1., 0., 1.,\n",
       "         0., 1., 1., 0., 0., 1., 1., 1., 0., 0., 0., 0., 1., 1., 0., 0., 1., 1.,\n",
       "         1., 1., 1., 1., 1., 1., 1., 1., 1., 1., 1., 1., 0., 0., 1., 0., 1., 0.,\n",
       "         1., 0., 1., 1., 1., 1., 1., 1., 0., 1., 0., 1., 1., 1., 0., 1., 1., 0.,\n",
       "         0., 1., 0., 1., 1., 0., 0., 1., 1., 1., 1., 1., 1., 1., 1., 0., 1., 1.,\n",
       "         1., 0., 1., 0., 0., 1., 1., 0., 0., 0., 1., 0., 0., 1., 0., 0., 0., 1.,\n",
       "         0., 1., 0., 0., 0., 0., 1., 0., 1., 1., 1., 1., 0., 1., 0., 0., 0., 0.,\n",
       "         0., 0., 1., 0., 1., 0., 1., 0., 1., 1., 1., 0., 1., 0., 1., 0., 0., 1.,\n",
       "         1., 1., 0., 0., 0., 1., 1., 0., 1., 0., 1., 1., 0., 1., 0., 0., 1., 1.,\n",
       "         1., 0., 0., 0., 1., 1., 0., 0., 0., 0., 0., 1., 1., 0., 1., 0., 0., 0.,\n",
       "         1., 0., 0., 0., 1., 1., 1., 1., 0., 1., 1., 1., 0., 1., 1., 1., 1., 0.,\n",
       "         1., 1., 0., 1., 1., 0., 0., 1., 1., 1., 0., 0., 0., 0., 0., 0., 1., 0.,\n",
       "         0., 1., 0., 0., 0., 1., 0., 1., 0., 1., 1., 0., 0., 0., 0., 0., 0., 0.,\n",
       "         0., 1., 0., 1., 0., 0., 0., 1., 0., 0.]))"
      ]
     },
     "execution_count": 10,
     "metadata": {},
     "output_type": "execute_result"
    }
   ],
   "source": [
    "x= torch.from_numpy(x).type(torch.float)\n",
    "y = torch.from_numpy(y).type(torch.float)\n",
    "x,y#now u see the data has been changed to tensor"
   ]
  },
  {
   "cell_type": "code",
   "execution_count": 11,
   "metadata": {},
   "outputs": [
    {
     "data": {
      "text/plain": [
       "(800, 200, 800, 200)"
      ]
     },
     "execution_count": 11,
     "metadata": {},
     "output_type": "execute_result"
    }
   ],
   "source": [
    "from sklearn.model_selection import train_test_split\n",
    "x_train, x_test, y_train, y_test = train_test_split(x, y, test_size=0.2, random_state=42)\n",
    "len(x_train), len(x_test), len(y_train), len(y_test)"
   ]
  },
  {
   "cell_type": "code",
   "execution_count": 12,
   "metadata": {},
   "outputs": [
    {
     "data": {
      "text/plain": [
       "circlemodel(\n",
       "  (layer1): Linear(in_features=2, out_features=5, bias=True)\n",
       "  (layer2): Linear(in_features=5, out_features=1, bias=True)\n",
       ")"
      ]
     },
     "execution_count": 12,
     "metadata": {},
     "output_type": "execute_result"
    }
   ],
   "source": [
    "#model creation\n",
    "class circlemodel(nn.Module):\n",
    "    def __init__(self):\n",
    "        super().__init__()\n",
    "        #here we need to create 2 linear layers to handle the shapes of our data\n",
    "        self.layer1 = nn.Linear(in_features=2, out_features=5)\n",
    "        self.layer2 = nn.Linear(in_features=5,out_features=1)\n",
    "    def forward(self, x):\n",
    "        return self.layer2(self.layer1(x))\n",
    "model = circlemodel()\n",
    "model"
   ]
  },
  {
   "cell_type": "code",
   "execution_count": 13,
   "metadata": {},
   "outputs": [
    {
     "data": {
      "text/plain": [
       "Sequential(\n",
       "  (0): Linear(in_features=2, out_features=5, bias=True)\n",
       "  (1): Linear(in_features=5, out_features=1, bias=True)\n",
       ")"
      ]
     },
     "execution_count": 13,
     "metadata": {},
     "output_type": "execute_result"
    }
   ],
   "source": [
    "model1 = nn.Sequential(\n",
    "    nn.Linear(in_features=2, out_features=5),\n",
    "    nn.Linear(in_features=5, out_features=1)\n",
    ")\n",
    "model1# instead of doing all class circle model and using nn module & forward pass we can simply use nn.sequential and assign it to our model1"
   ]
  },
  {
   "cell_type": "code",
   "execution_count": 14,
   "metadata": {},
   "outputs": [
    {
     "name": "stdout",
     "output_type": "stream",
     "text": [
      "OrderedDict({'layer1.weight': tensor([[ 0.3648, -0.5768],\n",
      "        [ 0.5888, -0.3716],\n",
      "        [ 0.6656, -0.2451],\n",
      "        [ 0.0229,  0.2363],\n",
      "        [ 0.0218,  0.2373]]), 'layer1.bias': tensor([ 0.5488, -0.3755,  0.5971, -0.1141,  0.0327]), 'layer2.weight': tensor([[ 0.3503, -0.4158, -0.0317, -0.4436,  0.4460]]), 'layer2.bias': tensor([0.2742])})\n",
      "OrderedDict({'0.weight': tensor([[-0.4658,  0.5669],\n",
      "        [-0.0543,  0.4274],\n",
      "        [-0.6952, -0.1903],\n",
      "        [ 0.3111,  0.6648],\n",
      "        [-0.4668, -0.5840]]), '0.bias': tensor([ 0.6004,  0.2875,  0.3741, -0.0437,  0.1709]), '1.weight': tensor([[-0.3163, -0.3090,  0.0562, -0.0243,  0.1192]]), '1.bias': tensor([0.1432])})\n"
     ]
    }
   ],
   "source": [
    "print(model.state_dict())\n",
    "print(model1.state_dict())"
   ]
  },
  {
   "cell_type": "code",
   "execution_count": 15,
   "metadata": {},
   "outputs": [
    {
     "name": "stdout",
     "output_type": "stream",
     "text": [
      "tensor([[0.6944],\n",
      "        [0.6296],\n",
      "        [0.7784],\n",
      "        [0.6710],\n",
      "        [0.6419],\n",
      "        [0.6034],\n",
      "        [0.5290],\n",
      "        [0.5225],\n",
      "        [0.7840],\n",
      "        [0.6237]])\n",
      "tensor([1., 1., 1., 1., 0., 1., 1., 1., 1., 0.])\n"
     ]
    }
   ],
   "source": [
    "#prediction\n",
    "with torch.inference_mode(): \n",
    "    predictions = model(x_test)\n",
    "print(predictions[:10])\n",
    "print(y[:10])"
   ]
  },
  {
   "cell_type": "code",
   "execution_count": 16,
   "metadata": {},
   "outputs": [],
   "source": [
    "#set loss function and optimizer\n",
    "loss = nn.BCEWithLogitsLoss()\n",
    "optimizer = torch.optim.SGD(params=model.parameters(), lr=0.1)"
   ]
  },
  {
   "cell_type": "code",
   "execution_count": 17,
   "metadata": {},
   "outputs": [
    {
     "data": {
      "text/plain": [
       "tensor([[0.6944],\n",
       "        [0.6296],\n",
       "        [0.7784],\n",
       "        [0.6710],\n",
       "        [0.6419],\n",
       "        [0.6034],\n",
       "        [0.5290],\n",
       "        [0.5225],\n",
       "        [0.7840],\n",
       "        [0.6237],\n",
       "        [0.7035],\n",
       "        [0.6709],\n",
       "        [0.5203],\n",
       "        [0.7721],\n",
       "        [0.8047],\n",
       "        [0.5652],\n",
       "        [0.5892],\n",
       "        [0.7359],\n",
       "        [0.7281],\n",
       "        [0.7662],\n",
       "        [0.6289],\n",
       "        [0.5376],\n",
       "        [0.7448],\n",
       "        [0.7619],\n",
       "        [0.5518],\n",
       "        [0.5309],\n",
       "        [0.7387],\n",
       "        [0.5700],\n",
       "        [0.8157],\n",
       "        [0.7508],\n",
       "        [0.5647],\n",
       "        [0.5565],\n",
       "        [0.6919],\n",
       "        [0.6896],\n",
       "        [0.7052],\n",
       "        [0.6216],\n",
       "        [0.6733],\n",
       "        [0.7762],\n",
       "        [0.7134],\n",
       "        [0.7637],\n",
       "        [0.7523],\n",
       "        [0.7846],\n",
       "        [0.5891],\n",
       "        [0.6454],\n",
       "        [0.6900],\n",
       "        [0.6120],\n",
       "        [0.6209],\n",
       "        [0.6308],\n",
       "        [0.6337],\n",
       "        [0.6192],\n",
       "        [0.6759],\n",
       "        [0.6866],\n",
       "        [0.5597],\n",
       "        [0.6658],\n",
       "        [0.5556],\n",
       "        [0.7475],\n",
       "        [0.5521],\n",
       "        [0.7789],\n",
       "        [0.7749],\n",
       "        [0.8007],\n",
       "        [0.6228],\n",
       "        [0.5287],\n",
       "        [0.7937],\n",
       "        [0.7631],\n",
       "        [0.6839],\n",
       "        [0.6412],\n",
       "        [0.5637],\n",
       "        [0.5346],\n",
       "        [0.6039],\n",
       "        [0.5459],\n",
       "        [0.5874],\n",
       "        [0.5906],\n",
       "        [0.8066],\n",
       "        [0.7813],\n",
       "        [0.5527],\n",
       "        [0.5944],\n",
       "        [0.7098],\n",
       "        [0.5409],\n",
       "        [0.7180],\n",
       "        [0.5691],\n",
       "        [0.7684],\n",
       "        [0.6890],\n",
       "        [0.5322],\n",
       "        [0.7137],\n",
       "        [0.7704],\n",
       "        [0.5899],\n",
       "        [0.6057],\n",
       "        [0.7787],\n",
       "        [0.6882],\n",
       "        [0.5356],\n",
       "        [0.7906],\n",
       "        [0.6986],\n",
       "        [0.7114],\n",
       "        [0.6556],\n",
       "        [0.7767],\n",
       "        [0.7338],\n",
       "        [0.6213],\n",
       "        [0.7860],\n",
       "        [0.7750],\n",
       "        [0.6791],\n",
       "        [0.6224],\n",
       "        [0.8190],\n",
       "        [0.5988],\n",
       "        [0.5524],\n",
       "        [0.7854],\n",
       "        [0.7029],\n",
       "        [0.7190],\n",
       "        [0.5365],\n",
       "        [0.7869],\n",
       "        [0.5752],\n",
       "        [0.6388],\n",
       "        [0.7213],\n",
       "        [0.5760],\n",
       "        [0.6081],\n",
       "        [0.5491],\n",
       "        [0.7383],\n",
       "        [0.7449],\n",
       "        [0.8022],\n",
       "        [0.7357],\n",
       "        [0.7246],\n",
       "        [0.7613],\n",
       "        [0.7171],\n",
       "        [0.5637],\n",
       "        [0.7776],\n",
       "        [0.5715],\n",
       "        [0.7552],\n",
       "        [0.7771],\n",
       "        [0.5828],\n",
       "        [0.6491],\n",
       "        [0.5634],\n",
       "        [0.7823],\n",
       "        [0.5321],\n",
       "        [0.7045],\n",
       "        [0.5985],\n",
       "        [0.5819],\n",
       "        [0.5293],\n",
       "        [0.6740],\n",
       "        [0.7716],\n",
       "        [0.7910],\n",
       "        [0.5928],\n",
       "        [0.8069],\n",
       "        [0.5549],\n",
       "        [0.7553],\n",
       "        [0.7760],\n",
       "        [0.8110],\n",
       "        [0.6834],\n",
       "        [0.5541],\n",
       "        [0.8037],\n",
       "        [0.5808],\n",
       "        [0.6655],\n",
       "        [0.5799],\n",
       "        [0.5449],\n",
       "        [0.7837],\n",
       "        [0.8087],\n",
       "        [0.5656],\n",
       "        [0.6033],\n",
       "        [0.5726],\n",
       "        [0.8051],\n",
       "        [0.7967],\n",
       "        [0.7933],\n",
       "        [0.6798],\n",
       "        [0.5676],\n",
       "        [0.7508],\n",
       "        [0.7389],\n",
       "        [0.5916],\n",
       "        [0.6309],\n",
       "        [0.5343],\n",
       "        [0.7923],\n",
       "        [0.5899],\n",
       "        [0.5983],\n",
       "        [0.5816],\n",
       "        [0.5955],\n",
       "        [0.5515],\n",
       "        [0.5659],\n",
       "        [0.5283],\n",
       "        [0.5813],\n",
       "        [0.6755],\n",
       "        [0.5350],\n",
       "        [0.5844],\n",
       "        [0.6656],\n",
       "        [0.6248],\n",
       "        [0.7812],\n",
       "        [0.5567],\n",
       "        [0.7568],\n",
       "        [0.7685],\n",
       "        [0.7831],\n",
       "        [0.6441],\n",
       "        [0.5310],\n",
       "        [0.6612],\n",
       "        [0.6391],\n",
       "        [0.8050],\n",
       "        [0.7767],\n",
       "        [0.5818],\n",
       "        [0.5560],\n",
       "        [0.7588],\n",
       "        [0.5397],\n",
       "        [0.7621],\n",
       "        [0.5391],\n",
       "        [0.7460],\n",
       "        [0.5975]])"
      ]
     },
     "execution_count": 17,
     "metadata": {},
     "output_type": "execute_result"
    }
   ],
   "source": [
    "#train model\n",
    "with torch.inference_mode():\n",
    "    logits = model(x_test)\n",
    "logits"
   ]
  },
  {
   "cell_type": "code",
   "execution_count": 18,
   "metadata": {},
   "outputs": [
    {
     "data": {
      "text/plain": [
       "tensor([[0.6670],\n",
       "        [0.6524],\n",
       "        [0.6853],\n",
       "        [0.6617],\n",
       "        [0.6552],\n",
       "        [0.6464],\n",
       "        [0.6293],\n",
       "        [0.6277],\n",
       "        [0.6866],\n",
       "        [0.6511],\n",
       "        [0.6690],\n",
       "        [0.6617],\n",
       "        [0.6272],\n",
       "        [0.6840],\n",
       "        [0.6910],\n",
       "        [0.6377],\n",
       "        [0.6432],\n",
       "        [0.6761],\n",
       "        [0.6744],\n",
       "        [0.6827],\n",
       "        [0.6522],\n",
       "        [0.6313],\n",
       "        [0.6780],\n",
       "        [0.6818],\n",
       "        [0.6346],\n",
       "        [0.6297],\n",
       "        [0.6767],\n",
       "        [0.6388],\n",
       "        [0.6933],\n",
       "        [0.6794],\n",
       "        [0.6375],\n",
       "        [0.6356],\n",
       "        [0.6664],\n",
       "        [0.6659],\n",
       "        [0.6693],\n",
       "        [0.6506],\n",
       "        [0.6622],\n",
       "        [0.6849],\n",
       "        [0.6712],\n",
       "        [0.6822],\n",
       "        [0.6797],\n",
       "        [0.6867],\n",
       "        [0.6432],\n",
       "        [0.6560],\n",
       "        [0.6660],\n",
       "        [0.6484],\n",
       "        [0.6504],\n",
       "        [0.6527],\n",
       "        [0.6533],\n",
       "        [0.6500],\n",
       "        [0.6628],\n",
       "        [0.6652],\n",
       "        [0.6364],\n",
       "        [0.6606],\n",
       "        [0.6354],\n",
       "        [0.6786],\n",
       "        [0.6346],\n",
       "        [0.6855],\n",
       "        [0.6846],\n",
       "        [0.6901],\n",
       "        [0.6509],\n",
       "        [0.6292],\n",
       "        [0.6886],\n",
       "        [0.6820],\n",
       "        [0.6646],\n",
       "        [0.6550],\n",
       "        [0.6373],\n",
       "        [0.6306],\n",
       "        [0.6465],\n",
       "        [0.6332],\n",
       "        [0.6428],\n",
       "        [0.6435],\n",
       "        [0.6914],\n",
       "        [0.6860],\n",
       "        [0.6348],\n",
       "        [0.6444],\n",
       "        [0.6704],\n",
       "        [0.6320],\n",
       "        [0.6722],\n",
       "        [0.6385],\n",
       "        [0.6832],\n",
       "        [0.6657],\n",
       "        [0.6300],\n",
       "        [0.6712],\n",
       "        [0.6836],\n",
       "        [0.6433],\n",
       "        [0.6470],\n",
       "        [0.6854],\n",
       "        [0.6656],\n",
       "        [0.6308],\n",
       "        [0.6880],\n",
       "        [0.6679],\n",
       "        [0.6707],\n",
       "        [0.6583],\n",
       "        [0.6850],\n",
       "        [0.6756],\n",
       "        [0.6505],\n",
       "        [0.6870],\n",
       "        [0.6846],\n",
       "        [0.6635],\n",
       "        [0.6508],\n",
       "        [0.6940],\n",
       "        [0.6454],\n",
       "        [0.6347],\n",
       "        [0.6868],\n",
       "        [0.6688],\n",
       "        [0.6724],\n",
       "        [0.6310],\n",
       "        [0.6872],\n",
       "        [0.6400],\n",
       "        [0.6545],\n",
       "        [0.6729],\n",
       "        [0.6402],\n",
       "        [0.6475],\n",
       "        [0.6339],\n",
       "        [0.6766],\n",
       "        [0.6781],\n",
       "        [0.6904],\n",
       "        [0.6761],\n",
       "        [0.6736],\n",
       "        [0.6816],\n",
       "        [0.6720],\n",
       "        [0.6373],\n",
       "        [0.6852],\n",
       "        [0.6391],\n",
       "        [0.6803],\n",
       "        [0.6851],\n",
       "        [0.6417],\n",
       "        [0.6568],\n",
       "        [0.6372],\n",
       "        [0.6862],\n",
       "        [0.6300],\n",
       "        [0.6692],\n",
       "        [0.6453],\n",
       "        [0.6415],\n",
       "        [0.6293],\n",
       "        [0.6624],\n",
       "        [0.6839],\n",
       "        [0.6880],\n",
       "        [0.6440],\n",
       "        [0.6915],\n",
       "        [0.6353],\n",
       "        [0.6803],\n",
       "        [0.6848],\n",
       "        [0.6923],\n",
       "        [0.6645],\n",
       "        [0.6351],\n",
       "        [0.6908],\n",
       "        [0.6413],\n",
       "        [0.6605],\n",
       "        [0.6410],\n",
       "        [0.6330],\n",
       "        [0.6865],\n",
       "        [0.6918],\n",
       "        [0.6378],\n",
       "        [0.6464],\n",
       "        [0.6394],\n",
       "        [0.6911],\n",
       "        [0.6893],\n",
       "        [0.6885],\n",
       "        [0.6637],\n",
       "        [0.6382],\n",
       "        [0.6794],\n",
       "        [0.6768],\n",
       "        [0.6437],\n",
       "        [0.6527],\n",
       "        [0.6305],\n",
       "        [0.6883],\n",
       "        [0.6433],\n",
       "        [0.6453],\n",
       "        [0.6414],\n",
       "        [0.6446],\n",
       "        [0.6345],\n",
       "        [0.6378],\n",
       "        [0.6291],\n",
       "        [0.6414],\n",
       "        [0.6627],\n",
       "        [0.6306],\n",
       "        [0.6421],\n",
       "        [0.6605],\n",
       "        [0.6513],\n",
       "        [0.6859],\n",
       "        [0.6357],\n",
       "        [0.6807],\n",
       "        [0.6832],\n",
       "        [0.6864],\n",
       "        [0.6557],\n",
       "        [0.6297],\n",
       "        [0.6595],\n",
       "        [0.6545],\n",
       "        [0.6910],\n",
       "        [0.6850],\n",
       "        [0.6415],\n",
       "        [0.6355],\n",
       "        [0.6811],\n",
       "        [0.6317],\n",
       "        [0.6818],\n",
       "        [0.6316],\n",
       "        [0.6783],\n",
       "        [0.6451]])"
      ]
     },
     "execution_count": 18,
     "metadata": {},
     "output_type": "execute_result"
    }
   ],
   "source": [
    "#use sigmoid activation function to convert logits to probabilities()\n",
    "probabilities = torch.sigmoid(logits)\n",
    "probabilities"
   ]
  },
  {
   "cell_type": "code",
   "execution_count": 19,
   "metadata": {},
   "outputs": [
    {
     "name": "stdout",
     "output_type": "stream",
     "text": [
      "tensor([True, True, True, True, True, True, True, True, True, True, True, True,\n",
      "        True, True, True, True, True, True, True, True, True, True, True, True,\n",
      "        True, True, True, True, True, True, True, True, True, True, True, True,\n",
      "        True, True, True, True, True, True, True, True, True, True, True, True,\n",
      "        True, True, True, True, True, True, True, True, True, True, True, True,\n",
      "        True, True, True, True, True, True, True, True, True, True, True, True,\n",
      "        True, True, True, True, True, True, True, True, True, True, True, True,\n",
      "        True, True, True, True, True, True, True, True, True, True, True, True,\n",
      "        True, True, True, True, True, True, True, True, True, True, True, True,\n",
      "        True, True, True, True, True, True, True, True, True, True, True, True,\n",
      "        True, True, True, True, True, True, True, True, True, True, True, True,\n",
      "        True, True, True, True, True, True, True, True, True, True, True, True,\n",
      "        True, True, True, True, True, True, True, True, True, True, True, True,\n",
      "        True, True, True, True, True, True, True, True, True, True, True, True,\n",
      "        True, True, True, True, True, True, True, True, True, True, True, True,\n",
      "        True, True, True, True, True, True, True, True, True, True, True, True,\n",
      "        True, True, True, True, True, True, True, True])\n"
     ]
    },
    {
     "data": {
      "text/plain": [
       "tensor([1., 1., 1., 1., 1., 1., 1., 1., 1., 1., 1., 1., 1., 1., 1., 1., 1., 1.,\n",
       "        1., 1., 1., 1., 1., 1., 1., 1., 1., 1., 1., 1., 1., 1., 1., 1., 1., 1.,\n",
       "        1., 1., 1., 1., 1., 1., 1., 1., 1., 1., 1., 1., 1., 1., 1., 1., 1., 1.,\n",
       "        1., 1., 1., 1., 1., 1., 1., 1., 1., 1., 1., 1., 1., 1., 1., 1., 1., 1.,\n",
       "        1., 1., 1., 1., 1., 1., 1., 1., 1., 1., 1., 1., 1., 1., 1., 1., 1., 1.,\n",
       "        1., 1., 1., 1., 1., 1., 1., 1., 1., 1., 1., 1., 1., 1., 1., 1., 1., 1.,\n",
       "        1., 1., 1., 1., 1., 1., 1., 1., 1., 1., 1., 1., 1., 1., 1., 1., 1., 1.,\n",
       "        1., 1., 1., 1., 1., 1., 1., 1., 1., 1., 1., 1., 1., 1., 1., 1., 1., 1.,\n",
       "        1., 1., 1., 1., 1., 1., 1., 1., 1., 1., 1., 1., 1., 1., 1., 1., 1., 1.,\n",
       "        1., 1., 1., 1., 1., 1., 1., 1., 1., 1., 1., 1., 1., 1., 1., 1., 1., 1.,\n",
       "        1., 1., 1., 1., 1., 1., 1., 1., 1., 1., 1., 1., 1., 1., 1., 1., 1., 1.,\n",
       "        1., 1.])"
      ]
     },
     "execution_count": 19,
     "metadata": {},
     "output_type": "execute_result"
    }
   ],
   "source": [
    "#find the predicted labels\n",
    "pred_prob = torch.round(probabilities)\n",
    "\n",
    "pred_labels = torch.round(torch.sigmoid(model(x_test)))\n",
    "\n",
    "#check the equality\n",
    "print(torch.eq(pred_prob.squeeze(),pred_labels.squeeze()))  \n",
    "\n",
    "pred_prob.squeeze()\n"
   ]
  },
  {
   "cell_type": "code",
   "execution_count": 20,
   "metadata": {},
   "outputs": [
    {
     "name": "stdout",
     "output_type": "stream",
     "text": [
      "Epoch: 0 | Train Loss: 0.74968 | Test Loss: 0.74017 | Train Accuracy: 0.50% | Test Accuracy: 0.50%\n",
      "Epoch: 10 | Train Loss: 0.71166 | Test Loss: 0.70783 | Train Accuracy: 0.50% | Test Accuracy: 0.50%\n",
      "Epoch: 20 | Train Loss: 0.70031 | Test Loss: 0.69821 | Train Accuracy: 0.50% | Test Accuracy: 0.50%\n",
      "Epoch: 30 | Train Loss: 0.69655 | Test Loss: 0.69509 | Train Accuracy: 0.57% | Test Accuracy: 0.55%\n",
      "Epoch: 40 | Train Loss: 0.69511 | Test Loss: 0.69397 | Train Accuracy: 0.51% | Test Accuracy: 0.55%\n",
      "Epoch: 50 | Train Loss: 0.69444 | Test Loss: 0.69350 | Train Accuracy: 0.51% | Test Accuracy: 0.56%\n",
      "Epoch: 60 | Train Loss: 0.69407 | Test Loss: 0.69328 | Train Accuracy: 0.50% | Test Accuracy: 0.55%\n",
      "Epoch: 70 | Train Loss: 0.69382 | Test Loss: 0.69317 | Train Accuracy: 0.50% | Test Accuracy: 0.53%\n",
      "Epoch: 80 | Train Loss: 0.69365 | Test Loss: 0.69313 | Train Accuracy: 0.50% | Test Accuracy: 0.53%\n",
      "Epoch: 90 | Train Loss: 0.69352 | Test Loss: 0.69312 | Train Accuracy: 0.50% | Test Accuracy: 0.53%\n"
     ]
    }
   ],
   "source": [
    "#built train and test loop\n",
    "torch.manual_seed(42)\n",
    "torch.cuda.manual_seed(42)#for reproducibility \n",
    "epochs = 100\n",
    "\n",
    "for epoch in range(epochs):\n",
    "       model.train()\n",
    "       y_logits = model(x_train).squeeze() \n",
    "       y_pred = torch.round(torch.sigmoid(y_logits)) #convert logits to probabilities and then round them to get predictions\n",
    "       train_loss = loss(y_logits, y_train) #calculate loss\n",
    "       optimizer.zero_grad() #zero the gradients\n",
    "       train_loss.backward() #backpropagation\n",
    "       optimizer.step() #update the weights\n",
    "       \n",
    "      ##testing\n",
    "       model.eval() #set the model to evaluation mode\n",
    "       with torch.inference_mode():\n",
    "          test_logits = model(x_test).squeeze() #get the logits for the test set\n",
    "          test_pred = torch.round(torch.sigmoid(test_logits)) #convert logits to probabilities and then round them to get predictions\n",
    "          test_loss = loss(test_logits, y_test) #calculate loss for the test set\n",
    "       if epoch % 10 == 0:\n",
    "           print(f\"Epoch: {epoch} | Train Loss: {train_loss:.5f} | Test Loss: {test_loss:.5f} | Train Accuracy: {torch.eq(y_pred, y_train).sum()/len(y_train):.2f}% | Test Accuracy: {torch.eq(test_pred, y_test).sum()/len(y_test):.2f}%\")\n"
   ]
  },
  {
   "cell_type": "code",
   "execution_count": 21,
   "metadata": {},
   "outputs": [
    {
     "name": "stdout",
     "output_type": "stream",
     "text": [
      "helper_functions.py already exists, skipping download.\n"
     ]
    }
   ],
   "source": [
    "#make predictions and evaluate the model\n",
    "import requests\n",
    "from pathlib import Path\n",
    "\n",
    "if Path(\"helper_functions.py\").is_file():\n",
    "    print(\"helper_functions.py already exists, skipping download.\")\n",
    "else:\n",
    "    print(\"Downloading helper_functions.py...\")\n",
    "    url = \"https://raw.githubusercontent.com/mrdbourke/pytorch-deep-learning/main/helper_functions.py\"\n",
    "    response = requests.get(url)\n",
    "    with open(\"helper_functions.py\", \"wb\") as file:\n",
    "        file.write(response.content)\n",
    "from helper_functions import plot_decision_boundary, plot_predictions\n"
   ]
  },
  {
   "cell_type": "code",
   "execution_count": 23,
   "metadata": {},
   "outputs": [
    {
     "data": {
      "image/png": "[encoded data removed]",
      "text/plain": [
       "<Figure size 640x480 with 2 Axes>"
      ]
     },
     "metadata": {},
     "output_type": "display_data"
    }
   ],
   "source": [
    "#plot decision boundary\n",
    "import matplotlib.pyplot as plt\n",
    "plt.subplot(1,2,1)\n",
    "plot_decision_boundary(model=model, X=x_train, y=y_train)\n",
    "plt.subplot(1,2,2)\n",
    "plot_decision_boundary(model=model, X=x_test, y=y_test)"
   ]
  }
 ],
 "metadata": {
  "kernelspec": {
   "display_name": "Python 3",
   "language": "python",
   "name": "python3"
  },
  "language_info": {
   "codemirror_mode": {
    "name": "ipython",
    "version": 3
   },
   "file_extension": ".py",
   "mimetype": "text/x-python",
   "name": "python",
   "nbconvert_exporter": "python",
   "pygments_lexer": "ipython3",
   "version": "3.13.5"
  }
 },
 "nbformat": 4,
 "nbformat_minor": 2
}
